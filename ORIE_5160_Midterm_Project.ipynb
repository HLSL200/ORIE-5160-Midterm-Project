{
 "cells": [
  {
   "cell_type": "markdown",
   "id": "e1f0489c",
   "metadata": {},
   "source": [
    "# Read the Data and Pick 10 Features for Research"
   ]
  },
  {
   "cell_type": "markdown",
   "id": "309ad916",
   "metadata": {},
   "source": [
    "### Our main goal: Among the selected features, identify which features are related with diabetes, and how they are correlated.\n",
    "\n",
    "### Features we picked:\n",
    "\n",
    "#### 1. Age (AGE_P)\n",
    "\n",
    "Type: Continuous variable\n",
    "\n",
    "Description: Represents the respondent's age in years.\n",
    "\n",
    "Example values: 18, 35, 60, etc.\n",
    "\n",
    "Why: Diabetes risk increases with age, especially for Type 2 diabetes.\n",
    "\n",
    "\n",
    "#### 2. Sex (SEX)\n",
    "\n",
    "Type: Categorical variable\n",
    "\n",
    "Possible values:\n",
    "\n",
    "1: Male\n",
    "\n",
    "2: Female\n",
    "\n",
    "7: Refused\n",
    "\n",
    "9: Don't know\n",
    "\n",
    "Why: There may be gender differences in diabetes prevalence and risk factors.\n",
    "\n",
    "\n",
    "#### 3. Body Mass Index (BMI)\n",
    "\n",
    "Type: Continuous variable\n",
    "\n",
    "Description: The body mass index (BMI) is calculated from height and weight.\n",
    "\n",
    "Example values:\n",
    "\n",
    "<18.5: Underweight\n",
    "\n",
    "18.5–24.9: Normal weight\n",
    "\n",
    "25–29.9: Overweight\n",
    "\n",
    "30 or greater: Obesity\n",
    "\n",
    "Why: Obesity is one of the strongest risk factors for Type 2 diabetes.\n",
    "\n",
    "\n",
    "#### 4. Hypertension (HYPEV)\n",
    "\n",
    "Type: Categorical variable\n",
    "\n",
    "Possible values:\n",
    "\n",
    "1: Yes\n",
    "\n",
    "2: No\n",
    "\n",
    "7: Refused\n",
    "\n",
    "9: Don’t know\n",
    "\n",
    "Why: High blood pressure is often associated with diabetes.\n",
    "\n",
    "\n",
    "#### 5. Cholesterol Levels (CHLEV)\n",
    "\n",
    "Type: Categorical variable\n",
    "\n",
    "Possible values:\n",
    "\n",
    "1: Yes\n",
    "\n",
    "2: No\n",
    "\n",
    "7: Refused\n",
    "\n",
    "9: Don’t know\n",
    "\n",
    "Why: High cholesterol is a common comorbidity with diabetes and can lead to related complications.\n",
    "\n",
    "\n",
    "\n",
    "\n",
    "#### 6. Smoking Status SMKNOW (Current Smoking Status)\n",
    "\n",
    "\n",
    "Type: Categorical variable\n",
    "\n",
    "Possible values:\n",
    "\n",
    "1: Every day\n",
    "\n",
    "2: Some days\n",
    "\n",
    "3: Not at all\n",
    "\n",
    "7: Refused\n",
    "\n",
    "9: Don’t know\n",
    "\n",
    "Why: Smoking has been linked to an increased risk of diabetes and other chronic conditions.\n",
    "\n",
    "\n",
    "#### 7. Family History of Diabetes (DIBREL)\n",
    "\n",
    "Type: Categorical variable\n",
    "\n",
    "Possible values:\n",
    "\n",
    "1: Yes\n",
    "\n",
    "2: No\n",
    "\n",
    "7: Refused\n",
    "\n",
    "9: Don’t know\n",
    "\n",
    "Why: A family history of diabetes significantly increases an individual's risk.\n",
    "\n",
    "\n",
    "#### 8. Gestational Diabetes (DIBGDM)\n",
    "\n",
    "Type: Categorical variable\n",
    "\n",
    "Possible values:\n",
    "\n",
    "1: Yes\n",
    "\n",
    "2: No\n",
    "\n",
    "7: Refused\n",
    "\n",
    "9: Don’t know\n",
    "\n",
    "Why: Women who develop gestational diabetes during pregnancy have a higher risk of developing Type 2 diabetes later in life.\n",
    "\n",
    "\n",
    "#### 9. Alcohol Consumption (ALC1YR)\n",
    "\n",
    "Type: Categorical variable\n",
    "\n",
    "Possible values:\n",
    "\n",
    "1: Yes (consumed alcohol in the past year)\n",
    "\n",
    "2: No (did not consume alcohol in the past year)\n",
    "\n",
    "7: Refused (refused to answer the question)\n",
    "\n",
    "9: Don't know (unsure if consumed alcohol in the past year)\n",
    "\n",
    "Why: Excessive alcohol consumption can increase the risk of diabetes through its impact on weight and liver function.\n",
    "\n",
    "\n",
    "### Tag for Diabetes (DIBEV1)\n",
    "\n",
    "Type: Categorical variable\n",
    "\n",
    "Possible values:\n",
    "\n",
    "1: Yes (the respondent has been diagnosed with diabetes)\n",
    "\n",
    "2: No (the respondent has not been diagnosed with diabetes)\n",
    "\n",
    "3: Borderline (the respondent has been told they have borderline diabetes)\n",
    "\n",
    "7: Refused (the respondent refused to answer)\n",
    "\n",
    "9: Don't know (the respondent is unsure if they have been diagnosed with diabetes)"
   ]
  },
  {
   "cell_type": "code",
   "execution_count": 269,
   "id": "fff49cd4",
   "metadata": {},
   "outputs": [],
   "source": [
    "import pandas as pd"
   ]
  },
  {
   "cell_type": "code",
   "execution_count": 270,
   "id": "17d4f65a",
   "metadata": {
    "scrolled": true
   },
   "outputs": [
    {
     "data": {
      "text/html": [
       "<div>\n",
       "<style scoped>\n",
       "    .dataframe tbody tr th:only-of-type {\n",
       "        vertical-align: middle;\n",
       "    }\n",
       "\n",
       "    .dataframe tbody tr th {\n",
       "        vertical-align: top;\n",
       "    }\n",
       "\n",
       "    .dataframe thead th {\n",
       "        text-align: right;\n",
       "    }\n",
       "</style>\n",
       "<table border=\"1\" class=\"dataframe\">\n",
       "  <thead>\n",
       "    <tr style=\"text-align: right;\">\n",
       "      <th></th>\n",
       "      <th>FPX</th>\n",
       "      <th>FMX</th>\n",
       "      <th>HHX</th>\n",
       "      <th>INTV_QRT</th>\n",
       "      <th>WTIA_SA</th>\n",
       "      <th>WTFA_SA</th>\n",
       "      <th>SEX</th>\n",
       "      <th>HISPAN_I</th>\n",
       "      <th>R_MARITL</th>\n",
       "      <th>MRACRPI2</th>\n",
       "      <th>...</th>\n",
       "      <th>BFWH_05</th>\n",
       "      <th>BFWH_06</th>\n",
       "      <th>BFWH_07</th>\n",
       "      <th>BFWH_08</th>\n",
       "      <th>BFWH_09</th>\n",
       "      <th>BFWH_10</th>\n",
       "      <th>BNRFALL</th>\n",
       "      <th>BINTHI</th>\n",
       "      <th>BINTTR</th>\n",
       "      <th>BINTRS</th>\n",
       "    </tr>\n",
       "  </thead>\n",
       "  <tbody>\n",
       "    <tr>\n",
       "      <th>0</th>\n",
       "      <td>1</td>\n",
       "      <td>1</td>\n",
       "      <td>1</td>\n",
       "      <td>1</td>\n",
       "      <td>11241.0</td>\n",
       "      <td>26100</td>\n",
       "      <td>1</td>\n",
       "      <td>12</td>\n",
       "      <td>8</td>\n",
       "      <td>2</td>\n",
       "      <td>...</td>\n",
       "      <td>2.0</td>\n",
       "      <td>2.0</td>\n",
       "      <td>2.0</td>\n",
       "      <td>2.0</td>\n",
       "      <td>1.0</td>\n",
       "      <td>2.0</td>\n",
       "      <td>5.0</td>\n",
       "      <td>2.0</td>\n",
       "      <td>2.0</td>\n",
       "      <td>2.0</td>\n",
       "    </tr>\n",
       "    <tr>\n",
       "      <th>1</th>\n",
       "      <td>1</td>\n",
       "      <td>2</td>\n",
       "      <td>1</td>\n",
       "      <td>1</td>\n",
       "      <td>5620.5</td>\n",
       "      <td>11294</td>\n",
       "      <td>2</td>\n",
       "      <td>12</td>\n",
       "      <td>5</td>\n",
       "      <td>2</td>\n",
       "      <td>...</td>\n",
       "      <td>NaN</td>\n",
       "      <td>NaN</td>\n",
       "      <td>NaN</td>\n",
       "      <td>NaN</td>\n",
       "      <td>NaN</td>\n",
       "      <td>NaN</td>\n",
       "      <td>NaN</td>\n",
       "      <td>NaN</td>\n",
       "      <td>NaN</td>\n",
       "      <td>NaN</td>\n",
       "    </tr>\n",
       "    <tr>\n",
       "      <th>2</th>\n",
       "      <td>1</td>\n",
       "      <td>1</td>\n",
       "      <td>2</td>\n",
       "      <td>1</td>\n",
       "      <td>2919.3</td>\n",
       "      <td>2506</td>\n",
       "      <td>1</td>\n",
       "      <td>12</td>\n",
       "      <td>5</td>\n",
       "      <td>1</td>\n",
       "      <td>...</td>\n",
       "      <td>NaN</td>\n",
       "      <td>NaN</td>\n",
       "      <td>NaN</td>\n",
       "      <td>NaN</td>\n",
       "      <td>NaN</td>\n",
       "      <td>NaN</td>\n",
       "      <td>NaN</td>\n",
       "      <td>NaN</td>\n",
       "      <td>NaN</td>\n",
       "      <td>NaN</td>\n",
       "    </tr>\n",
       "    <tr>\n",
       "      <th>3</th>\n",
       "      <td>2</td>\n",
       "      <td>1</td>\n",
       "      <td>3</td>\n",
       "      <td>1</td>\n",
       "      <td>8883.8</td>\n",
       "      <td>9267</td>\n",
       "      <td>2</td>\n",
       "      <td>3</td>\n",
       "      <td>2</td>\n",
       "      <td>1</td>\n",
       "      <td>...</td>\n",
       "      <td>NaN</td>\n",
       "      <td>NaN</td>\n",
       "      <td>NaN</td>\n",
       "      <td>NaN</td>\n",
       "      <td>NaN</td>\n",
       "      <td>NaN</td>\n",
       "      <td>NaN</td>\n",
       "      <td>NaN</td>\n",
       "      <td>NaN</td>\n",
       "      <td>NaN</td>\n",
       "    </tr>\n",
       "    <tr>\n",
       "      <th>4</th>\n",
       "      <td>1</td>\n",
       "      <td>1</td>\n",
       "      <td>5</td>\n",
       "      <td>1</td>\n",
       "      <td>3300.8</td>\n",
       "      <td>3443</td>\n",
       "      <td>2</td>\n",
       "      <td>3</td>\n",
       "      <td>7</td>\n",
       "      <td>1</td>\n",
       "      <td>...</td>\n",
       "      <td>NaN</td>\n",
       "      <td>NaN</td>\n",
       "      <td>NaN</td>\n",
       "      <td>NaN</td>\n",
       "      <td>NaN</td>\n",
       "      <td>NaN</td>\n",
       "      <td>NaN</td>\n",
       "      <td>NaN</td>\n",
       "      <td>NaN</td>\n",
       "      <td>NaN</td>\n",
       "    </tr>\n",
       "  </tbody>\n",
       "</table>\n",
       "<p>5 rows × 805 columns</p>\n",
       "</div>"
      ],
      "text/plain": [
       "   FPX  FMX  HHX  INTV_QRT  WTIA_SA  WTFA_SA  SEX  HISPAN_I  R_MARITL  \\\n",
       "0    1    1    1         1  11241.0    26100    1        12         8   \n",
       "1    1    2    1         1   5620.5    11294    2        12         5   \n",
       "2    1    1    2         1   2919.3     2506    1        12         5   \n",
       "3    2    1    3         1   8883.8     9267    2         3         2   \n",
       "4    1    1    5         1   3300.8     3443    2         3         7   \n",
       "\n",
       "   MRACRPI2  ...  BFWH_05  BFWH_06  BFWH_07  BFWH_08  BFWH_09  BFWH_10  \\\n",
       "0         2  ...      2.0      2.0      2.0      2.0      1.0      2.0   \n",
       "1         2  ...      NaN      NaN      NaN      NaN      NaN      NaN   \n",
       "2         1  ...      NaN      NaN      NaN      NaN      NaN      NaN   \n",
       "3         1  ...      NaN      NaN      NaN      NaN      NaN      NaN   \n",
       "4         1  ...      NaN      NaN      NaN      NaN      NaN      NaN   \n",
       "\n",
       "   BNRFALL  BINTHI  BINTTR  BINTRS  \n",
       "0      5.0     2.0     2.0     2.0  \n",
       "1      NaN     NaN     NaN     NaN  \n",
       "2      NaN     NaN     NaN     NaN  \n",
       "3      NaN     NaN     NaN     NaN  \n",
       "4      NaN     NaN     NaN     NaN  \n",
       "\n",
       "[5 rows x 805 columns]"
      ]
     },
     "execution_count": 270,
     "metadata": {},
     "output_type": "execute_result"
    }
   ],
   "source": [
    "df = pd.read_csv(\"samadult.csv\")\n",
    "df.head()"
   ]
  },
  {
   "cell_type": "code",
   "execution_count": 271,
   "id": "e5a75c07",
   "metadata": {},
   "outputs": [],
   "source": [
    "# List of columns to keep (10 key features + diabetes indicator column)\n",
    "columns_to_keep = [\n",
    "    'AGE_P',     # Age\n",
    "    'SEX',       # Sex\n",
    "    'BMI',       # Body Mass Index\n",
    "    'HYPEV',     # Hypertension diagnosis\n",
    "    'CHLEV',     # Cholesterol diagnosis\n",
    "    'SMKNOW',    # Current smoking status\n",
    "    'ALC1YR',    # Alcohol Consumption\n",
    "    'DIBREL',    # Family history of diabetes\n",
    "    'DIBGDM',    # Gestational diabetes history\n",
    "    'DIBEV1'     # Diabetes diagnosis (Yes/No/Borderline)\n",
    "]"
   ]
  },
  {
   "cell_type": "code",
   "execution_count": 272,
   "id": "6097787d",
   "metadata": {
    "scrolled": true
   },
   "outputs": [
    {
     "data": {
      "text/html": [
       "<div>\n",
       "<style scoped>\n",
       "    .dataframe tbody tr th:only-of-type {\n",
       "        vertical-align: middle;\n",
       "    }\n",
       "\n",
       "    .dataframe tbody tr th {\n",
       "        vertical-align: top;\n",
       "    }\n",
       "\n",
       "    .dataframe thead th {\n",
       "        text-align: right;\n",
       "    }\n",
       "</style>\n",
       "<table border=\"1\" class=\"dataframe\">\n",
       "  <thead>\n",
       "    <tr style=\"text-align: right;\">\n",
       "      <th></th>\n",
       "      <th>AGE_P</th>\n",
       "      <th>SEX</th>\n",
       "      <th>BMI</th>\n",
       "      <th>HYPEV</th>\n",
       "      <th>CHLEV</th>\n",
       "      <th>SMKNOW</th>\n",
       "      <th>ALC1YR</th>\n",
       "      <th>DIBREL</th>\n",
       "      <th>DIBGDM</th>\n",
       "      <th>DIBEV1</th>\n",
       "    </tr>\n",
       "  </thead>\n",
       "  <tbody>\n",
       "    <tr>\n",
       "      <th>0</th>\n",
       "      <td>22</td>\n",
       "      <td>1</td>\n",
       "      <td>3336</td>\n",
       "      <td>2</td>\n",
       "      <td>2</td>\n",
       "      <td>NaN</td>\n",
       "      <td>1</td>\n",
       "      <td>1</td>\n",
       "      <td>NaN</td>\n",
       "      <td>2</td>\n",
       "    </tr>\n",
       "    <tr>\n",
       "      <th>1</th>\n",
       "      <td>24</td>\n",
       "      <td>2</td>\n",
       "      <td>2019</td>\n",
       "      <td>2</td>\n",
       "      <td>2</td>\n",
       "      <td>NaN</td>\n",
       "      <td>1</td>\n",
       "      <td>2</td>\n",
       "      <td>NaN</td>\n",
       "      <td>2</td>\n",
       "    </tr>\n",
       "    <tr>\n",
       "      <th>2</th>\n",
       "      <td>76</td>\n",
       "      <td>1</td>\n",
       "      <td>2727</td>\n",
       "      <td>1</td>\n",
       "      <td>1</td>\n",
       "      <td>NaN</td>\n",
       "      <td>2</td>\n",
       "      <td>2</td>\n",
       "      <td>NaN</td>\n",
       "      <td>2</td>\n",
       "    </tr>\n",
       "    <tr>\n",
       "      <th>3</th>\n",
       "      <td>36</td>\n",
       "      <td>2</td>\n",
       "      <td>3862</td>\n",
       "      <td>2</td>\n",
       "      <td>2</td>\n",
       "      <td>NaN</td>\n",
       "      <td>1</td>\n",
       "      <td>1</td>\n",
       "      <td>2.0</td>\n",
       "      <td>2</td>\n",
       "    </tr>\n",
       "    <tr>\n",
       "      <th>4</th>\n",
       "      <td>35</td>\n",
       "      <td>2</td>\n",
       "      <td>3995</td>\n",
       "      <td>2</td>\n",
       "      <td>2</td>\n",
       "      <td>1.0</td>\n",
       "      <td>1</td>\n",
       "      <td>1</td>\n",
       "      <td>2.0</td>\n",
       "      <td>2</td>\n",
       "    </tr>\n",
       "  </tbody>\n",
       "</table>\n",
       "</div>"
      ],
      "text/plain": [
       "   AGE_P  SEX   BMI  HYPEV  CHLEV  SMKNOW  ALC1YR  DIBREL  DIBGDM  DIBEV1\n",
       "0     22    1  3336      2      2     NaN       1       1     NaN       2\n",
       "1     24    2  2019      2      2     NaN       1       2     NaN       2\n",
       "2     76    1  2727      1      1     NaN       2       2     NaN       2\n",
       "3     36    2  3862      2      2     NaN       1       1     2.0       2\n",
       "4     35    2  3995      2      2     1.0       1       1     2.0       2"
      ]
     },
     "execution_count": 272,
     "metadata": {},
     "output_type": "execute_result"
    }
   ],
   "source": [
    "# Create a new DataFrame with only the selected columns\n",
    "samadult = df[columns_to_keep]\n",
    "samadult.head()"
   ]
  },
  {
   "cell_type": "code",
   "execution_count": 273,
   "id": "1e795da5",
   "metadata": {},
   "outputs": [
    {
     "name": "stderr",
     "output_type": "stream",
     "text": [
      "/var/folders/nl/hvb2wh_x56xfglf7ds9c47tc0000gn/T/ipykernel_84198/2998434094.py:2: SettingWithCopyWarning: \n",
      "A value is trying to be set on a copy of a slice from a DataFrame.\n",
      "Try using .loc[row_indexer,col_indexer] = value instead\n",
      "\n",
      "See the caveats in the documentation: https://pandas.pydata.org/pandas-docs/stable/user_guide/indexing.html#returning-a-view-versus-a-copy\n",
      "  samadult['BMI']=samadult['BMI']/100\n"
     ]
    },
    {
     "data": {
      "text/html": [
       "<div>\n",
       "<style scoped>\n",
       "    .dataframe tbody tr th:only-of-type {\n",
       "        vertical-align: middle;\n",
       "    }\n",
       "\n",
       "    .dataframe tbody tr th {\n",
       "        vertical-align: top;\n",
       "    }\n",
       "\n",
       "    .dataframe thead th {\n",
       "        text-align: right;\n",
       "    }\n",
       "</style>\n",
       "<table border=\"1\" class=\"dataframe\">\n",
       "  <thead>\n",
       "    <tr style=\"text-align: right;\">\n",
       "      <th></th>\n",
       "      <th>AGE_P</th>\n",
       "      <th>SEX</th>\n",
       "      <th>BMI</th>\n",
       "      <th>HYPEV</th>\n",
       "      <th>CHLEV</th>\n",
       "      <th>SMKNOW</th>\n",
       "      <th>ALC1YR</th>\n",
       "      <th>DIBREL</th>\n",
       "      <th>DIBGDM</th>\n",
       "      <th>DIBEV1</th>\n",
       "    </tr>\n",
       "  </thead>\n",
       "  <tbody>\n",
       "    <tr>\n",
       "      <th>0</th>\n",
       "      <td>22</td>\n",
       "      <td>1</td>\n",
       "      <td>33.36</td>\n",
       "      <td>2</td>\n",
       "      <td>2</td>\n",
       "      <td>NaN</td>\n",
       "      <td>1</td>\n",
       "      <td>1</td>\n",
       "      <td>NaN</td>\n",
       "      <td>2</td>\n",
       "    </tr>\n",
       "    <tr>\n",
       "      <th>1</th>\n",
       "      <td>24</td>\n",
       "      <td>2</td>\n",
       "      <td>20.19</td>\n",
       "      <td>2</td>\n",
       "      <td>2</td>\n",
       "      <td>NaN</td>\n",
       "      <td>1</td>\n",
       "      <td>2</td>\n",
       "      <td>NaN</td>\n",
       "      <td>2</td>\n",
       "    </tr>\n",
       "    <tr>\n",
       "      <th>2</th>\n",
       "      <td>76</td>\n",
       "      <td>1</td>\n",
       "      <td>27.27</td>\n",
       "      <td>1</td>\n",
       "      <td>1</td>\n",
       "      <td>NaN</td>\n",
       "      <td>2</td>\n",
       "      <td>2</td>\n",
       "      <td>NaN</td>\n",
       "      <td>2</td>\n",
       "    </tr>\n",
       "    <tr>\n",
       "      <th>3</th>\n",
       "      <td>36</td>\n",
       "      <td>2</td>\n",
       "      <td>38.62</td>\n",
       "      <td>2</td>\n",
       "      <td>2</td>\n",
       "      <td>NaN</td>\n",
       "      <td>1</td>\n",
       "      <td>1</td>\n",
       "      <td>2.0</td>\n",
       "      <td>2</td>\n",
       "    </tr>\n",
       "    <tr>\n",
       "      <th>4</th>\n",
       "      <td>35</td>\n",
       "      <td>2</td>\n",
       "      <td>39.95</td>\n",
       "      <td>2</td>\n",
       "      <td>2</td>\n",
       "      <td>1.0</td>\n",
       "      <td>1</td>\n",
       "      <td>1</td>\n",
       "      <td>2.0</td>\n",
       "      <td>2</td>\n",
       "    </tr>\n",
       "  </tbody>\n",
       "</table>\n",
       "</div>"
      ],
      "text/plain": [
       "   AGE_P  SEX    BMI  HYPEV  CHLEV  SMKNOW  ALC1YR  DIBREL  DIBGDM  DIBEV1\n",
       "0     22    1  33.36      2      2     NaN       1       1     NaN       2\n",
       "1     24    2  20.19      2      2     NaN       1       2     NaN       2\n",
       "2     76    1  27.27      1      1     NaN       2       2     NaN       2\n",
       "3     36    2  38.62      2      2     NaN       1       1     2.0       2\n",
       "4     35    2  39.95      2      2     1.0       1       1     2.0       2"
      ]
     },
     "execution_count": 273,
     "metadata": {},
     "output_type": "execute_result"
    }
   ],
   "source": [
    "# Find BMI column doesn't have decimal point. Add it in\n",
    "samadult['BMI']=samadult['BMI']/100\n",
    "samadult.head()"
   ]
  },
  {
   "cell_type": "markdown",
   "id": "8fdd6d3c",
   "metadata": {},
   "source": [
    "# Preprocessing the Dataset\n",
    "\n",
    "## Reduce Outliers"
   ]
  },
  {
   "cell_type": "code",
   "execution_count": 274,
   "id": "4a56db5c",
   "metadata": {},
   "outputs": [
    {
     "name": "stderr",
     "output_type": "stream",
     "text": [
      "/var/folders/nl/hvb2wh_x56xfglf7ds9c47tc0000gn/T/ipykernel_84198/3042757942.py:14: SettingWithCopyWarning: \n",
      "A value is trying to be set on a copy of a slice from a DataFrame.\n",
      "Try using .loc[row_indexer,col_indexer] = value instead\n",
      "\n",
      "See the caveats in the documentation: https://pandas.pydata.org/pandas-docs/stable/user_guide/indexing.html#returning-a-view-versus-a-copy\n",
      "  samadult['BMI'] = samadult['BMI'].apply(categorize_bmi)\n"
     ]
    },
    {
     "data": {
      "text/html": [
       "<div>\n",
       "<style scoped>\n",
       "    .dataframe tbody tr th:only-of-type {\n",
       "        vertical-align: middle;\n",
       "    }\n",
       "\n",
       "    .dataframe tbody tr th {\n",
       "        vertical-align: top;\n",
       "    }\n",
       "\n",
       "    .dataframe thead th {\n",
       "        text-align: right;\n",
       "    }\n",
       "</style>\n",
       "<table border=\"1\" class=\"dataframe\">\n",
       "  <thead>\n",
       "    <tr style=\"text-align: right;\">\n",
       "      <th></th>\n",
       "      <th>AGE_P</th>\n",
       "      <th>SEX</th>\n",
       "      <th>BMI</th>\n",
       "      <th>HYPEV</th>\n",
       "      <th>CHLEV</th>\n",
       "      <th>SMKNOW</th>\n",
       "      <th>ALC1YR</th>\n",
       "      <th>DIBREL</th>\n",
       "      <th>DIBGDM</th>\n",
       "      <th>DIBEV1</th>\n",
       "    </tr>\n",
       "  </thead>\n",
       "  <tbody>\n",
       "    <tr>\n",
       "      <th>0</th>\n",
       "      <td>22</td>\n",
       "      <td>1</td>\n",
       "      <td>Obesity</td>\n",
       "      <td>2</td>\n",
       "      <td>2</td>\n",
       "      <td>NaN</td>\n",
       "      <td>1</td>\n",
       "      <td>1</td>\n",
       "      <td>NaN</td>\n",
       "      <td>2</td>\n",
       "    </tr>\n",
       "    <tr>\n",
       "      <th>1</th>\n",
       "      <td>24</td>\n",
       "      <td>2</td>\n",
       "      <td>Normal weight</td>\n",
       "      <td>2</td>\n",
       "      <td>2</td>\n",
       "      <td>NaN</td>\n",
       "      <td>1</td>\n",
       "      <td>2</td>\n",
       "      <td>NaN</td>\n",
       "      <td>2</td>\n",
       "    </tr>\n",
       "    <tr>\n",
       "      <th>2</th>\n",
       "      <td>76</td>\n",
       "      <td>1</td>\n",
       "      <td>Overweight</td>\n",
       "      <td>1</td>\n",
       "      <td>1</td>\n",
       "      <td>NaN</td>\n",
       "      <td>2</td>\n",
       "      <td>2</td>\n",
       "      <td>NaN</td>\n",
       "      <td>2</td>\n",
       "    </tr>\n",
       "    <tr>\n",
       "      <th>3</th>\n",
       "      <td>36</td>\n",
       "      <td>2</td>\n",
       "      <td>Obesity</td>\n",
       "      <td>2</td>\n",
       "      <td>2</td>\n",
       "      <td>NaN</td>\n",
       "      <td>1</td>\n",
       "      <td>1</td>\n",
       "      <td>2.0</td>\n",
       "      <td>2</td>\n",
       "    </tr>\n",
       "    <tr>\n",
       "      <th>4</th>\n",
       "      <td>35</td>\n",
       "      <td>2</td>\n",
       "      <td>Obesity</td>\n",
       "      <td>2</td>\n",
       "      <td>2</td>\n",
       "      <td>1.0</td>\n",
       "      <td>1</td>\n",
       "      <td>1</td>\n",
       "      <td>2.0</td>\n",
       "      <td>2</td>\n",
       "    </tr>\n",
       "    <tr>\n",
       "      <th>...</th>\n",
       "      <td>...</td>\n",
       "      <td>...</td>\n",
       "      <td>...</td>\n",
       "      <td>...</td>\n",
       "      <td>...</td>\n",
       "      <td>...</td>\n",
       "      <td>...</td>\n",
       "      <td>...</td>\n",
       "      <td>...</td>\n",
       "      <td>...</td>\n",
       "    </tr>\n",
       "    <tr>\n",
       "      <th>33023</th>\n",
       "      <td>56</td>\n",
       "      <td>1</td>\n",
       "      <td>Normal weight</td>\n",
       "      <td>2</td>\n",
       "      <td>2</td>\n",
       "      <td>3.0</td>\n",
       "      <td>1</td>\n",
       "      <td>1</td>\n",
       "      <td>NaN</td>\n",
       "      <td>2</td>\n",
       "    </tr>\n",
       "    <tr>\n",
       "      <th>33024</th>\n",
       "      <td>58</td>\n",
       "      <td>1</td>\n",
       "      <td>Obesity</td>\n",
       "      <td>1</td>\n",
       "      <td>1</td>\n",
       "      <td>3.0</td>\n",
       "      <td>1</td>\n",
       "      <td>1</td>\n",
       "      <td>NaN</td>\n",
       "      <td>2</td>\n",
       "    </tr>\n",
       "    <tr>\n",
       "      <th>33025</th>\n",
       "      <td>71</td>\n",
       "      <td>2</td>\n",
       "      <td>Overweight</td>\n",
       "      <td>1</td>\n",
       "      <td>1</td>\n",
       "      <td>3.0</td>\n",
       "      <td>2</td>\n",
       "      <td>1</td>\n",
       "      <td>2.0</td>\n",
       "      <td>1</td>\n",
       "    </tr>\n",
       "    <tr>\n",
       "      <th>33026</th>\n",
       "      <td>64</td>\n",
       "      <td>1</td>\n",
       "      <td>Overweight</td>\n",
       "      <td>1</td>\n",
       "      <td>1</td>\n",
       "      <td>3.0</td>\n",
       "      <td>2</td>\n",
       "      <td>2</td>\n",
       "      <td>NaN</td>\n",
       "      <td>2</td>\n",
       "    </tr>\n",
       "    <tr>\n",
       "      <th>33027</th>\n",
       "      <td>54</td>\n",
       "      <td>1</td>\n",
       "      <td>Overweight</td>\n",
       "      <td>1</td>\n",
       "      <td>2</td>\n",
       "      <td>NaN</td>\n",
       "      <td>1</td>\n",
       "      <td>9</td>\n",
       "      <td>NaN</td>\n",
       "      <td>2</td>\n",
       "    </tr>\n",
       "  </tbody>\n",
       "</table>\n",
       "<p>33028 rows × 10 columns</p>\n",
       "</div>"
      ],
      "text/plain": [
       "       AGE_P  SEX            BMI  HYPEV  CHLEV  SMKNOW  ALC1YR  DIBREL  \\\n",
       "0         22    1        Obesity      2      2     NaN       1       1   \n",
       "1         24    2  Normal weight      2      2     NaN       1       2   \n",
       "2         76    1     Overweight      1      1     NaN       2       2   \n",
       "3         36    2        Obesity      2      2     NaN       1       1   \n",
       "4         35    2        Obesity      2      2     1.0       1       1   \n",
       "...      ...  ...            ...    ...    ...     ...     ...     ...   \n",
       "33023     56    1  Normal weight      2      2     3.0       1       1   \n",
       "33024     58    1        Obesity      1      1     3.0       1       1   \n",
       "33025     71    2     Overweight      1      1     3.0       2       1   \n",
       "33026     64    1     Overweight      1      1     3.0       2       2   \n",
       "33027     54    1     Overweight      1      2     NaN       1       9   \n",
       "\n",
       "       DIBGDM  DIBEV1  \n",
       "0         NaN       2  \n",
       "1         NaN       2  \n",
       "2         NaN       2  \n",
       "3         2.0       2  \n",
       "4         2.0       2  \n",
       "...       ...     ...  \n",
       "33023     NaN       2  \n",
       "33024     NaN       2  \n",
       "33025     2.0       1  \n",
       "33026     NaN       2  \n",
       "33027     NaN       2  \n",
       "\n",
       "[33028 rows x 10 columns]"
      ]
     },
     "execution_count": 274,
     "metadata": {},
     "output_type": "execute_result"
    }
   ],
   "source": [
    "#Suspect outlier in BMI column (such as BMI = 99.99)\n",
    "#Convert the BMI into category to reduce the impact\n",
    "\n",
    "def categorize_bmi(bmi):\n",
    "    if bmi < 18.5:\n",
    "        return 'Underweight'\n",
    "    elif 18.5 <= bmi < 25:\n",
    "        return 'Normal weight'\n",
    "    elif 25 <= bmi < 30:\n",
    "        return 'Overweight'\n",
    "    else:\n",
    "        return 'Obesity'\n",
    "\n",
    "samadult['BMI'] = samadult['BMI'].apply(categorize_bmi)\n",
    "samadult"
   ]
  },
  {
   "cell_type": "markdown",
   "id": "0270f6a3",
   "metadata": {},
   "source": [
    "### Can converting BMI number into categories reduce the impact of outliers?\n",
    "\n",
    "Yes. Here are reasons:\n",
    "\n",
    "### Outlier Mitigation:\n",
    "\n",
    "When converting to categories, you're mapping a potentially extreme or erroneous value (like 99.99, which is unreasonably high for BMI) into a broad category (e.g., \"Obesity\"). This reduces the influence that extreme values could have in the dataset, as you no longer work with exact values but with predefined ranges.\n",
    "\n",
    "### Loss of Extremes:\n",
    "\n",
    "For example, if you have a BMI value of 99.99, after conversion, it would fall into the \"Obesity\" category. This conversion disregards how extreme the value is, treating it the same as any other BMI over 30, thereby reducing its impact.\n",
    "\n",
    "### Interpretability:\n",
    "\n",
    "Categories are easier to interpret in studies where you're interested in general patterns (e.g., whether obesity correlates with diabetes). By categorizing BMI, you're focusing on broader trends rather than specific extreme values."
   ]
  },
  {
   "cell_type": "markdown",
   "id": "8c651b26",
   "metadata": {},
   "source": [
    "# Preprocessing the dataset\n",
    "\n",
    "## Handle Missing Values"
   ]
  },
  {
   "cell_type": "code",
   "execution_count": 275,
   "id": "fd846acf",
   "metadata": {},
   "outputs": [],
   "source": [
    "import numpy as np"
   ]
  },
  {
   "cell_type": "code",
   "execution_count": 276,
   "id": "f5b46b69",
   "metadata": {},
   "outputs": [
    {
     "name": "stderr",
     "output_type": "stream",
     "text": [
      "/opt/homebrew/Caskroom/miniforge/base/envs/base_env/lib/python3.8/site-packages/pandas/core/frame.py:3641: SettingWithCopyWarning: \n",
      "A value is trying to be set on a copy of a slice from a DataFrame.\n",
      "Try using .loc[row_indexer,col_indexer] = value instead\n",
      "\n",
      "See the caveats in the documentation: https://pandas.pydata.org/pandas-docs/stable/user_guide/indexing.html#returning-a-view-versus-a-copy\n",
      "  self[k1] = value[k2]\n"
     ]
    },
    {
     "data": {
      "text/html": [
       "<div>\n",
       "<style scoped>\n",
       "    .dataframe tbody tr th:only-of-type {\n",
       "        vertical-align: middle;\n",
       "    }\n",
       "\n",
       "    .dataframe tbody tr th {\n",
       "        vertical-align: top;\n",
       "    }\n",
       "\n",
       "    .dataframe thead th {\n",
       "        text-align: right;\n",
       "    }\n",
       "</style>\n",
       "<table border=\"1\" class=\"dataframe\">\n",
       "  <thead>\n",
       "    <tr style=\"text-align: right;\">\n",
       "      <th></th>\n",
       "      <th>AGE_P</th>\n",
       "      <th>SEX</th>\n",
       "      <th>BMI</th>\n",
       "      <th>HYPEV</th>\n",
       "      <th>CHLEV</th>\n",
       "      <th>SMKNOW</th>\n",
       "      <th>ALC1YR</th>\n",
       "      <th>DIBREL</th>\n",
       "      <th>DIBGDM</th>\n",
       "      <th>DIBEV1</th>\n",
       "    </tr>\n",
       "  </thead>\n",
       "  <tbody>\n",
       "    <tr>\n",
       "      <th>0</th>\n",
       "      <td>22</td>\n",
       "      <td>1.0</td>\n",
       "      <td>Obesity</td>\n",
       "      <td>2.0</td>\n",
       "      <td>2.0</td>\n",
       "      <td>NaN</td>\n",
       "      <td>1.0</td>\n",
       "      <td>1.0</td>\n",
       "      <td>NaN</td>\n",
       "      <td>2</td>\n",
       "    </tr>\n",
       "    <tr>\n",
       "      <th>1</th>\n",
       "      <td>24</td>\n",
       "      <td>2.0</td>\n",
       "      <td>Normal weight</td>\n",
       "      <td>2.0</td>\n",
       "      <td>2.0</td>\n",
       "      <td>NaN</td>\n",
       "      <td>1.0</td>\n",
       "      <td>2.0</td>\n",
       "      <td>NaN</td>\n",
       "      <td>2</td>\n",
       "    </tr>\n",
       "    <tr>\n",
       "      <th>2</th>\n",
       "      <td>76</td>\n",
       "      <td>1.0</td>\n",
       "      <td>Overweight</td>\n",
       "      <td>1.0</td>\n",
       "      <td>1.0</td>\n",
       "      <td>NaN</td>\n",
       "      <td>2.0</td>\n",
       "      <td>2.0</td>\n",
       "      <td>NaN</td>\n",
       "      <td>2</td>\n",
       "    </tr>\n",
       "    <tr>\n",
       "      <th>3</th>\n",
       "      <td>36</td>\n",
       "      <td>2.0</td>\n",
       "      <td>Obesity</td>\n",
       "      <td>2.0</td>\n",
       "      <td>2.0</td>\n",
       "      <td>NaN</td>\n",
       "      <td>1.0</td>\n",
       "      <td>1.0</td>\n",
       "      <td>2.0</td>\n",
       "      <td>2</td>\n",
       "    </tr>\n",
       "    <tr>\n",
       "      <th>4</th>\n",
       "      <td>35</td>\n",
       "      <td>2.0</td>\n",
       "      <td>Obesity</td>\n",
       "      <td>2.0</td>\n",
       "      <td>2.0</td>\n",
       "      <td>1.0</td>\n",
       "      <td>1.0</td>\n",
       "      <td>1.0</td>\n",
       "      <td>2.0</td>\n",
       "      <td>2</td>\n",
       "    </tr>\n",
       "    <tr>\n",
       "      <th>5</th>\n",
       "      <td>20</td>\n",
       "      <td>2.0</td>\n",
       "      <td>Normal weight</td>\n",
       "      <td>2.0</td>\n",
       "      <td>2.0</td>\n",
       "      <td>NaN</td>\n",
       "      <td>2.0</td>\n",
       "      <td>1.0</td>\n",
       "      <td>NaN</td>\n",
       "      <td>2</td>\n",
       "    </tr>\n",
       "    <tr>\n",
       "      <th>6</th>\n",
       "      <td>19</td>\n",
       "      <td>2.0</td>\n",
       "      <td>Normal weight</td>\n",
       "      <td>2.0</td>\n",
       "      <td>2.0</td>\n",
       "      <td>NaN</td>\n",
       "      <td>2.0</td>\n",
       "      <td>NaN</td>\n",
       "      <td>NaN</td>\n",
       "      <td>2</td>\n",
       "    </tr>\n",
       "    <tr>\n",
       "      <th>7</th>\n",
       "      <td>45</td>\n",
       "      <td>2.0</td>\n",
       "      <td>Overweight</td>\n",
       "      <td>2.0</td>\n",
       "      <td>1.0</td>\n",
       "      <td>1.0</td>\n",
       "      <td>1.0</td>\n",
       "      <td>1.0</td>\n",
       "      <td>NaN</td>\n",
       "      <td>2</td>\n",
       "    </tr>\n",
       "    <tr>\n",
       "      <th>8</th>\n",
       "      <td>18</td>\n",
       "      <td>2.0</td>\n",
       "      <td>Normal weight</td>\n",
       "      <td>2.0</td>\n",
       "      <td>2.0</td>\n",
       "      <td>NaN</td>\n",
       "      <td>1.0</td>\n",
       "      <td>2.0</td>\n",
       "      <td>NaN</td>\n",
       "      <td>2</td>\n",
       "    </tr>\n",
       "    <tr>\n",
       "      <th>9</th>\n",
       "      <td>20</td>\n",
       "      <td>2.0</td>\n",
       "      <td>Normal weight</td>\n",
       "      <td>2.0</td>\n",
       "      <td>2.0</td>\n",
       "      <td>NaN</td>\n",
       "      <td>2.0</td>\n",
       "      <td>2.0</td>\n",
       "      <td>NaN</td>\n",
       "      <td>2</td>\n",
       "    </tr>\n",
       "  </tbody>\n",
       "</table>\n",
       "</div>"
      ],
      "text/plain": [
       "   AGE_P  SEX            BMI  HYPEV  CHLEV  SMKNOW  ALC1YR  DIBREL  DIBGDM  \\\n",
       "0     22  1.0        Obesity    2.0    2.0     NaN     1.0     1.0     NaN   \n",
       "1     24  2.0  Normal weight    2.0    2.0     NaN     1.0     2.0     NaN   \n",
       "2     76  1.0     Overweight    1.0    1.0     NaN     2.0     2.0     NaN   \n",
       "3     36  2.0        Obesity    2.0    2.0     NaN     1.0     1.0     2.0   \n",
       "4     35  2.0        Obesity    2.0    2.0     1.0     1.0     1.0     2.0   \n",
       "5     20  2.0  Normal weight    2.0    2.0     NaN     2.0     1.0     NaN   \n",
       "6     19  2.0  Normal weight    2.0    2.0     NaN     2.0     NaN     NaN   \n",
       "7     45  2.0     Overweight    2.0    1.0     1.0     1.0     1.0     NaN   \n",
       "8     18  2.0  Normal weight    2.0    2.0     NaN     1.0     2.0     NaN   \n",
       "9     20  2.0  Normal weight    2.0    2.0     NaN     2.0     2.0     NaN   \n",
       "\n",
       "   DIBEV1  \n",
       "0       2  \n",
       "1       2  \n",
       "2       2  \n",
       "3       2  \n",
       "4       2  \n",
       "5       2  \n",
       "6       2  \n",
       "7       2  \n",
       "8       2  \n",
       "9       2  "
      ]
     },
     "execution_count": 276,
     "metadata": {},
     "output_type": "execute_result"
    }
   ],
   "source": [
    "#Besides the NaN in the dataset, we also have people who answer 9, which is don't know\n",
    "#Convert option 9 as NaN for categorical data\n",
    "\n",
    "# List of columns where the special missing values occur\n",
    "categorical_columns = ['SEX', 'HYPEV', 'CHLEV', 'SMKNOW', 'DIBREL', 'DIBGDM', 'ALC1YR']\n",
    "\n",
    "samadult[categorical_columns] = samadult[categorical_columns].replace([9], np.nan)\n",
    "samadult.head(10)"
   ]
  },
  {
   "cell_type": "code",
   "execution_count": 277,
   "id": "303a83e0",
   "metadata": {},
   "outputs": [
    {
     "name": "stdout",
     "output_type": "stream",
     "text": [
      "Column SEX has 0 instances of value 7.\n",
      "Column HYPEV has 21 instances of value 7.\n",
      "Column CHLEV has 24 instances of value 7.\n",
      "Column SMKNOW has 3 instances of value 7.\n",
      "Column DIBREL has 27 instances of value 7.\n",
      "Column DIBGDM has 5 instances of value 7.\n",
      "Column ALC1YR has 47 instances of value 7.\n"
     ]
    }
   ],
   "source": [
    "#Then let's check how many people refuse to answer (choose 7)\n",
    "for col in categorical_columns:\n",
    "    count_refused = samadult[col].value_counts().get(7, 0)  # Get the count of 7 (or 0 if not present)\n",
    "    print(f\"Column {col} has {count_refused} instances of value 7.\")"
   ]
  },
  {
   "cell_type": "code",
   "execution_count": 278,
   "id": "9f370a61",
   "metadata": {},
   "outputs": [
    {
     "name": "stderr",
     "output_type": "stream",
     "text": [
      "/opt/homebrew/Caskroom/miniforge/base/envs/base_env/lib/python3.8/site-packages/pandas/core/generic.py:6619: SettingWithCopyWarning: \n",
      "A value is trying to be set on a copy of a slice from a DataFrame\n",
      "\n",
      "See the caveats in the documentation: https://pandas.pydata.org/pandas-docs/stable/user_guide/indexing.html#returning-a-view-versus-a-copy\n",
      "  return self._update_inplace(result)\n"
     ]
    },
    {
     "data": {
      "text/html": [
       "<div>\n",
       "<style scoped>\n",
       "    .dataframe tbody tr th:only-of-type {\n",
       "        vertical-align: middle;\n",
       "    }\n",
       "\n",
       "    .dataframe tbody tr th {\n",
       "        vertical-align: top;\n",
       "    }\n",
       "\n",
       "    .dataframe thead th {\n",
       "        text-align: right;\n",
       "    }\n",
       "</style>\n",
       "<table border=\"1\" class=\"dataframe\">\n",
       "  <thead>\n",
       "    <tr style=\"text-align: right;\">\n",
       "      <th></th>\n",
       "      <th>AGE_P</th>\n",
       "      <th>SEX</th>\n",
       "      <th>BMI</th>\n",
       "      <th>HYPEV</th>\n",
       "      <th>CHLEV</th>\n",
       "      <th>SMKNOW</th>\n",
       "      <th>ALC1YR</th>\n",
       "      <th>DIBREL</th>\n",
       "      <th>DIBGDM</th>\n",
       "      <th>DIBEV1</th>\n",
       "    </tr>\n",
       "  </thead>\n",
       "  <tbody>\n",
       "    <tr>\n",
       "      <th>0</th>\n",
       "      <td>22</td>\n",
       "      <td>1.0</td>\n",
       "      <td>Obesity</td>\n",
       "      <td>2.0</td>\n",
       "      <td>2.0</td>\n",
       "      <td>NaN</td>\n",
       "      <td>1.0</td>\n",
       "      <td>1.0</td>\n",
       "      <td>NaN</td>\n",
       "      <td>2</td>\n",
       "    </tr>\n",
       "    <tr>\n",
       "      <th>1</th>\n",
       "      <td>24</td>\n",
       "      <td>2.0</td>\n",
       "      <td>Normal weight</td>\n",
       "      <td>2.0</td>\n",
       "      <td>2.0</td>\n",
       "      <td>NaN</td>\n",
       "      <td>1.0</td>\n",
       "      <td>2.0</td>\n",
       "      <td>NaN</td>\n",
       "      <td>2</td>\n",
       "    </tr>\n",
       "    <tr>\n",
       "      <th>2</th>\n",
       "      <td>76</td>\n",
       "      <td>1.0</td>\n",
       "      <td>Overweight</td>\n",
       "      <td>1.0</td>\n",
       "      <td>1.0</td>\n",
       "      <td>NaN</td>\n",
       "      <td>2.0</td>\n",
       "      <td>2.0</td>\n",
       "      <td>NaN</td>\n",
       "      <td>2</td>\n",
       "    </tr>\n",
       "    <tr>\n",
       "      <th>3</th>\n",
       "      <td>36</td>\n",
       "      <td>2.0</td>\n",
       "      <td>Obesity</td>\n",
       "      <td>2.0</td>\n",
       "      <td>2.0</td>\n",
       "      <td>NaN</td>\n",
       "      <td>1.0</td>\n",
       "      <td>1.0</td>\n",
       "      <td>2.0</td>\n",
       "      <td>2</td>\n",
       "    </tr>\n",
       "    <tr>\n",
       "      <th>4</th>\n",
       "      <td>35</td>\n",
       "      <td>2.0</td>\n",
       "      <td>Obesity</td>\n",
       "      <td>2.0</td>\n",
       "      <td>2.0</td>\n",
       "      <td>1.0</td>\n",
       "      <td>1.0</td>\n",
       "      <td>1.0</td>\n",
       "      <td>2.0</td>\n",
       "      <td>2</td>\n",
       "    </tr>\n",
       "  </tbody>\n",
       "</table>\n",
       "</div>"
      ],
      "text/plain": [
       "   AGE_P  SEX            BMI  HYPEV  CHLEV  SMKNOW  ALC1YR  DIBREL  DIBGDM  \\\n",
       "0     22  1.0        Obesity    2.0    2.0     NaN     1.0     1.0     NaN   \n",
       "1     24  2.0  Normal weight    2.0    2.0     NaN     1.0     2.0     NaN   \n",
       "2     76  1.0     Overweight    1.0    1.0     NaN     2.0     2.0     NaN   \n",
       "3     36  2.0        Obesity    2.0    2.0     NaN     1.0     1.0     2.0   \n",
       "4     35  2.0        Obesity    2.0    2.0     1.0     1.0     1.0     2.0   \n",
       "\n",
       "   DIBEV1  \n",
       "0       2  \n",
       "1       2  \n",
       "2       2  \n",
       "3       2  \n",
       "4       2  "
      ]
     },
     "execution_count": 278,
     "metadata": {},
     "output_type": "execute_result"
    }
   ],
   "source": [
    "#Since we have more than 33028 observations, and the number of observations is very small\n",
    "#We can change them to the mode\n",
    "import pandas as pd\n",
    "\n",
    "# Assuming df is your DataFrame\n",
    "\n",
    "# Loop through each column and replace \"7\" with the mode\n",
    "for col in samadult.columns:\n",
    "    mode_value = samadult[col].mode()[0]  # Get the most frequent value (mode)\n",
    "    # Replace \"7\" with the mode, ensuring the mode itself is not 7\n",
    "    if mode_value != 7:\n",
    "        samadult[col].replace(7, mode_value, inplace=True)\n",
    "\n",
    "samadult.head()"
   ]
  },
  {
   "cell_type": "code",
   "execution_count": 279,
   "id": "630853a6",
   "metadata": {},
   "outputs": [
    {
     "name": "stdout",
     "output_type": "stream",
     "text": [
      "Column SEX has 0 instances of value 7.\n",
      "Column HYPEV has 0 instances of value 7.\n",
      "Column CHLEV has 0 instances of value 7.\n",
      "Column SMKNOW has 0 instances of value 7.\n",
      "Column DIBREL has 0 instances of value 7.\n",
      "Column DIBGDM has 0 instances of value 7.\n",
      "Column ALC1YR has 0 instances of value 7.\n"
     ]
    }
   ],
   "source": [
    "#Then let's check if all of them are converted\n",
    "for col in categorical_columns:\n",
    "    count_refused = samadult[col].value_counts().get(7, 0)  # Get the count of 7 (or 0 if not present)\n",
    "    print(f\"Column {col} has {count_refused} instances of value 7.\")"
   ]
  },
  {
   "cell_type": "code",
   "execution_count": 280,
   "id": "68cf372d",
   "metadata": {},
   "outputs": [
    {
     "name": "stdout",
     "output_type": "stream",
     "text": [
      "AGE_P      0.000000\n",
      "SEX        0.000000\n",
      "BMI        0.000000\n",
      "HYPEV      0.084777\n",
      "CHLEV      0.196803\n",
      "SMKNOW    59.125590\n",
      "ALC1YR     0.060555\n",
      "DIBREL     1.341286\n",
      "DIBGDM    58.771346\n",
      "DIBEV1     0.000000\n",
      "dtype: float64\n"
     ]
    }
   ],
   "source": [
    "#Finally, let's deal with the missing value\n",
    "\n",
    "#First, check the percentage of missing\n",
    "print(samadult.isnull().mean() * 100)"
   ]
  },
  {
   "cell_type": "markdown",
   "id": "3d9f774c-77a6-4e4b-823d-4ad2ed640e7b",
   "metadata": {},
   "source": [
    "Before we try to deal with Nan values, we remove all rows that does not have a valid value for our target DIBEV1"
   ]
  },
  {
   "cell_type": "code",
   "execution_count": 281,
   "id": "03abe4c5-2306-4808-91c3-f1e997be78fb",
   "metadata": {},
   "outputs": [],
   "source": [
    "samadult = samadult[samadult[\"DIBEV1\"].isin({1, 2})]"
   ]
  },
  {
   "cell_type": "markdown",
   "id": "a0b2ebb9-0a1f-4c75-b606-b08206090221",
   "metadata": {},
   "source": [
    "We also changed the target label: no diabetes from 2 to 0 for readability"
   ]
  },
  {
   "cell_type": "code",
   "execution_count": 282,
   "id": "601a53c7-0c05-42d8-87a9-2181d940a020",
   "metadata": {},
   "outputs": [
    {
     "name": "stderr",
     "output_type": "stream",
     "text": [
      "/opt/homebrew/Caskroom/miniforge/base/envs/base_env/lib/python3.8/site-packages/pandas/core/indexing.py:1817: SettingWithCopyWarning: \n",
      "A value is trying to be set on a copy of a slice from a DataFrame.\n",
      "Try using .loc[row_indexer,col_indexer] = value instead\n",
      "\n",
      "See the caveats in the documentation: https://pandas.pydata.org/pandas-docs/stable/user_guide/indexing.html#returning-a-view-versus-a-copy\n",
      "  self._setitem_single_column(loc, value, pi)\n"
     ]
    }
   ],
   "source": [
    "samadult.loc[samadult[\"DIBEV1\"] == 2, \"DIBEV1\"] = 0"
   ]
  },
  {
   "cell_type": "markdown",
   "id": "7d932e47-09e7-4abc-a0d9-66958b2720d9",
   "metadata": {},
   "source": [
    "Since Age contains only two values, we change the value 2 to 0, so that, 0 = female and 1 = male"
   ]
  },
  {
   "cell_type": "code",
   "execution_count": 283,
   "id": "1755174f-ae5b-4ae2-9171-19c8402e3e60",
   "metadata": {},
   "outputs": [],
   "source": [
    "samadult.loc[samadult[\"SEX\"]==2, \"SEX\"] = 0"
   ]
  },
  {
   "cell_type": "code",
   "execution_count": 284,
   "id": "b1cb4e74",
   "metadata": {},
   "outputs": [],
   "source": [
    "samadult.loc[samadult[\"HYPEV\"] == 2, \"HYPEV\"] = 0"
   ]
  },
  {
   "cell_type": "code",
   "execution_count": 285,
   "id": "5ef3ff49",
   "metadata": {},
   "outputs": [],
   "source": [
    "samadult.loc[samadult[\"CHLEV\"] == 2, \"CHLEV\"] = 0"
   ]
  },
  {
   "cell_type": "code",
   "execution_count": 286,
   "id": "1a6a7914",
   "metadata": {},
   "outputs": [],
   "source": [
    "samadult.loc[samadult[\"DIBREL\"] == 2, \"DIBREL\"] = 0"
   ]
  },
  {
   "cell_type": "code",
   "execution_count": 287,
   "id": "bbf04b92-5628-4b66-996f-c77d637f91d6",
   "metadata": {},
   "outputs": [
    {
     "name": "stderr",
     "output_type": "stream",
     "text": [
      "/opt/homebrew/Caskroom/miniforge/base/envs/base_env/lib/python3.8/site-packages/pandas/core/frame.py:3641: SettingWithCopyWarning: \n",
      "A value is trying to be set on a copy of a slice from a DataFrame.\n",
      "Try using .loc[row_indexer,col_indexer] = value instead\n",
      "\n",
      "See the caveats in the documentation: https://pandas.pydata.org/pandas-docs/stable/user_guide/indexing.html#returning-a-view-versus-a-copy\n",
      "  self[k1] = value[k2]\n"
     ]
    }
   ],
   "source": [
    "weird_col = ['SMKNOW', 'ALC1YR']\n",
    "samadult[weird_col] = samadult[weird_col].replace([8], np.nan)"
   ]
  },
  {
   "cell_type": "code",
   "execution_count": 288,
   "id": "7994564f-5bbc-46bd-8775-f637cc5ce0f6",
   "metadata": {},
   "outputs": [],
   "source": [
    "samadult.loc[samadult['DIBGDM']==2, 'DIBGDM'] = 0\n",
    "samadult.loc[(samadult['SEX']==1) & (samadult['DIBGDM']==1), 'DIBGDM'] = 0"
   ]
  },
  {
   "cell_type": "markdown",
   "id": "40d5e4d5",
   "metadata": {},
   "source": [
    " For columns like SMKNOW and DIBGDM, the missingness is high (59% and 58% respectively).\n",
    " \n",
    " We can use KNN imputation to fill in missing values based on similar observations."
   ]
  },
  {
   "cell_type": "code",
   "execution_count": 290,
   "id": "eafa5e72",
   "metadata": {},
   "outputs": [
    {
     "name": "stderr",
     "output_type": "stream",
     "text": [
      "/var/folders/nl/hvb2wh_x56xfglf7ds9c47tc0000gn/T/ipykernel_84198/3796848072.py:6: SettingWithCopyWarning: \n",
      "A value is trying to be set on a copy of a slice from a DataFrame.\n",
      "Try using .loc[row_indexer,col_indexer] = value instead\n",
      "\n",
      "See the caveats in the documentation: https://pandas.pydata.org/pandas-docs/stable/user_guide/indexing.html#returning-a-view-versus-a-copy\n",
      "  samadult['BMI'] = label_encoder.fit_transform(samadult['BMI'])  # Assuming BMI is categorical\n"
     ]
    },
    {
     "data": {
      "text/html": [
       "<div>\n",
       "<style scoped>\n",
       "    .dataframe tbody tr th:only-of-type {\n",
       "        vertical-align: middle;\n",
       "    }\n",
       "\n",
       "    .dataframe tbody tr th {\n",
       "        vertical-align: top;\n",
       "    }\n",
       "\n",
       "    .dataframe thead th {\n",
       "        text-align: right;\n",
       "    }\n",
       "</style>\n",
       "<table border=\"1\" class=\"dataframe\">\n",
       "  <thead>\n",
       "    <tr style=\"text-align: right;\">\n",
       "      <th></th>\n",
       "      <th>AGE_P</th>\n",
       "      <th>SEX</th>\n",
       "      <th>BMI</th>\n",
       "      <th>HYPEV</th>\n",
       "      <th>CHLEV</th>\n",
       "      <th>SMKNOW</th>\n",
       "      <th>ALC1YR</th>\n",
       "      <th>DIBREL</th>\n",
       "      <th>DIBGDM</th>\n",
       "      <th>DIBEV1</th>\n",
       "    </tr>\n",
       "  </thead>\n",
       "  <tbody>\n",
       "    <tr>\n",
       "      <th>0</th>\n",
       "      <td>22</td>\n",
       "      <td>1.0</td>\n",
       "      <td>1</td>\n",
       "      <td>0.0</td>\n",
       "      <td>0.0</td>\n",
       "      <td>NaN</td>\n",
       "      <td>1.0</td>\n",
       "      <td>1.0</td>\n",
       "      <td>NaN</td>\n",
       "      <td>0</td>\n",
       "    </tr>\n",
       "    <tr>\n",
       "      <th>1</th>\n",
       "      <td>24</td>\n",
       "      <td>0.0</td>\n",
       "      <td>0</td>\n",
       "      <td>0.0</td>\n",
       "      <td>0.0</td>\n",
       "      <td>NaN</td>\n",
       "      <td>1.0</td>\n",
       "      <td>0.0</td>\n",
       "      <td>NaN</td>\n",
       "      <td>0</td>\n",
       "    </tr>\n",
       "    <tr>\n",
       "      <th>2</th>\n",
       "      <td>76</td>\n",
       "      <td>1.0</td>\n",
       "      <td>2</td>\n",
       "      <td>1.0</td>\n",
       "      <td>1.0</td>\n",
       "      <td>NaN</td>\n",
       "      <td>2.0</td>\n",
       "      <td>0.0</td>\n",
       "      <td>NaN</td>\n",
       "      <td>0</td>\n",
       "    </tr>\n",
       "    <tr>\n",
       "      <th>3</th>\n",
       "      <td>36</td>\n",
       "      <td>0.0</td>\n",
       "      <td>1</td>\n",
       "      <td>0.0</td>\n",
       "      <td>0.0</td>\n",
       "      <td>NaN</td>\n",
       "      <td>1.0</td>\n",
       "      <td>1.0</td>\n",
       "      <td>0.0</td>\n",
       "      <td>0</td>\n",
       "    </tr>\n",
       "    <tr>\n",
       "      <th>4</th>\n",
       "      <td>35</td>\n",
       "      <td>0.0</td>\n",
       "      <td>1</td>\n",
       "      <td>0.0</td>\n",
       "      <td>0.0</td>\n",
       "      <td>1.0</td>\n",
       "      <td>1.0</td>\n",
       "      <td>1.0</td>\n",
       "      <td>0.0</td>\n",
       "      <td>0</td>\n",
       "    </tr>\n",
       "    <tr>\n",
       "      <th>...</th>\n",
       "      <td>...</td>\n",
       "      <td>...</td>\n",
       "      <td>...</td>\n",
       "      <td>...</td>\n",
       "      <td>...</td>\n",
       "      <td>...</td>\n",
       "      <td>...</td>\n",
       "      <td>...</td>\n",
       "      <td>...</td>\n",
       "      <td>...</td>\n",
       "    </tr>\n",
       "    <tr>\n",
       "      <th>33023</th>\n",
       "      <td>56</td>\n",
       "      <td>1.0</td>\n",
       "      <td>0</td>\n",
       "      <td>0.0</td>\n",
       "      <td>0.0</td>\n",
       "      <td>3.0</td>\n",
       "      <td>1.0</td>\n",
       "      <td>1.0</td>\n",
       "      <td>NaN</td>\n",
       "      <td>0</td>\n",
       "    </tr>\n",
       "    <tr>\n",
       "      <th>33024</th>\n",
       "      <td>58</td>\n",
       "      <td>1.0</td>\n",
       "      <td>1</td>\n",
       "      <td>1.0</td>\n",
       "      <td>1.0</td>\n",
       "      <td>3.0</td>\n",
       "      <td>1.0</td>\n",
       "      <td>1.0</td>\n",
       "      <td>NaN</td>\n",
       "      <td>0</td>\n",
       "    </tr>\n",
       "    <tr>\n",
       "      <th>33025</th>\n",
       "      <td>71</td>\n",
       "      <td>0.0</td>\n",
       "      <td>2</td>\n",
       "      <td>1.0</td>\n",
       "      <td>1.0</td>\n",
       "      <td>3.0</td>\n",
       "      <td>2.0</td>\n",
       "      <td>1.0</td>\n",
       "      <td>0.0</td>\n",
       "      <td>1</td>\n",
       "    </tr>\n",
       "    <tr>\n",
       "      <th>33026</th>\n",
       "      <td>64</td>\n",
       "      <td>1.0</td>\n",
       "      <td>2</td>\n",
       "      <td>1.0</td>\n",
       "      <td>1.0</td>\n",
       "      <td>3.0</td>\n",
       "      <td>2.0</td>\n",
       "      <td>0.0</td>\n",
       "      <td>NaN</td>\n",
       "      <td>0</td>\n",
       "    </tr>\n",
       "    <tr>\n",
       "      <th>33027</th>\n",
       "      <td>54</td>\n",
       "      <td>1.0</td>\n",
       "      <td>2</td>\n",
       "      <td>1.0</td>\n",
       "      <td>0.0</td>\n",
       "      <td>NaN</td>\n",
       "      <td>1.0</td>\n",
       "      <td>NaN</td>\n",
       "      <td>NaN</td>\n",
       "      <td>0</td>\n",
       "    </tr>\n",
       "  </tbody>\n",
       "</table>\n",
       "<p>32123 rows × 10 columns</p>\n",
       "</div>"
      ],
      "text/plain": [
       "       AGE_P  SEX  BMI  HYPEV  CHLEV  SMKNOW  ALC1YR  DIBREL  DIBGDM  DIBEV1\n",
       "0         22  1.0    1    0.0    0.0     NaN     1.0     1.0     NaN       0\n",
       "1         24  0.0    0    0.0    0.0     NaN     1.0     0.0     NaN       0\n",
       "2         76  1.0    2    1.0    1.0     NaN     2.0     0.0     NaN       0\n",
       "3         36  0.0    1    0.0    0.0     NaN     1.0     1.0     0.0       0\n",
       "4         35  0.0    1    0.0    0.0     1.0     1.0     1.0     0.0       0\n",
       "...      ...  ...  ...    ...    ...     ...     ...     ...     ...     ...\n",
       "33023     56  1.0    0    0.0    0.0     3.0     1.0     1.0     NaN       0\n",
       "33024     58  1.0    1    1.0    1.0     3.0     1.0     1.0     NaN       0\n",
       "33025     71  0.0    2    1.0    1.0     3.0     2.0     1.0     0.0       1\n",
       "33026     64  1.0    2    1.0    1.0     3.0     2.0     0.0     NaN       0\n",
       "33027     54  1.0    2    1.0    0.0     NaN     1.0     NaN     NaN       0\n",
       "\n",
       "[32123 rows x 10 columns]"
      ]
     },
     "execution_count": 290,
     "metadata": {},
     "output_type": "execute_result"
    }
   ],
   "source": [
    "#To apply KNN, let's conduct Label Encoding\n",
    "from sklearn.preprocessing import LabelEncoder\n",
    "\n",
    "# Example: Convert BMI category to numerical values using LabelEncoder\n",
    "label_encoder = LabelEncoder()\n",
    "samadult['BMI'] = label_encoder.fit_transform(samadult['BMI'])  # Assuming BMI is categorical\n",
    "samadult"
   ]
  },
  {
   "cell_type": "markdown",
   "id": "249731b3-332a-4666-8137-db09d2775f9f",
   "metadata": {},
   "source": [
    "## Nan strategy -- KNN Imputer"
   ]
  },
  {
   "cell_type": "code",
   "execution_count": 291,
   "id": "1a1e0bb3",
   "metadata": {},
   "outputs": [],
   "source": [
    "import pandas as pd\n",
    "from sklearn.impute import KNNImputer\n",
    "from sklearn.preprocessing import LabelEncoder\n",
    "\n",
    "# Use KNNImputer for missing value imputation\n",
    "imputer = KNNImputer(n_neighbors=5)\n",
    "samadult_imputed = pd.DataFrame(imputer.fit_transform(samadult), columns=samadult.columns)"
   ]
  },
  {
   "cell_type": "code",
   "execution_count": 292,
   "id": "045b7f19",
   "metadata": {},
   "outputs": [
    {
     "data": {
      "text/html": [
       "<div>\n",
       "<style scoped>\n",
       "    .dataframe tbody tr th:only-of-type {\n",
       "        vertical-align: middle;\n",
       "    }\n",
       "\n",
       "    .dataframe tbody tr th {\n",
       "        vertical-align: top;\n",
       "    }\n",
       "\n",
       "    .dataframe thead th {\n",
       "        text-align: right;\n",
       "    }\n",
       "</style>\n",
       "<table border=\"1\" class=\"dataframe\">\n",
       "  <thead>\n",
       "    <tr style=\"text-align: right;\">\n",
       "      <th></th>\n",
       "      <th>AGE_P</th>\n",
       "      <th>SEX</th>\n",
       "      <th>BMI</th>\n",
       "      <th>HYPEV</th>\n",
       "      <th>CHLEV</th>\n",
       "      <th>SMKNOW</th>\n",
       "      <th>ALC1YR</th>\n",
       "      <th>DIBREL</th>\n",
       "      <th>DIBGDM</th>\n",
       "      <th>DIBEV1</th>\n",
       "    </tr>\n",
       "  </thead>\n",
       "  <tbody>\n",
       "    <tr>\n",
       "      <th>0</th>\n",
       "      <td>22.0</td>\n",
       "      <td>1.0</td>\n",
       "      <td>1.0</td>\n",
       "      <td>0.0</td>\n",
       "      <td>0.0</td>\n",
       "      <td>2.0</td>\n",
       "      <td>1.0</td>\n",
       "      <td>1.0</td>\n",
       "      <td>0.2</td>\n",
       "      <td>0.0</td>\n",
       "    </tr>\n",
       "    <tr>\n",
       "      <th>1</th>\n",
       "      <td>24.0</td>\n",
       "      <td>0.0</td>\n",
       "      <td>0.0</td>\n",
       "      <td>0.0</td>\n",
       "      <td>0.0</td>\n",
       "      <td>2.0</td>\n",
       "      <td>1.0</td>\n",
       "      <td>0.0</td>\n",
       "      <td>0.0</td>\n",
       "      <td>0.0</td>\n",
       "    </tr>\n",
       "    <tr>\n",
       "      <th>2</th>\n",
       "      <td>76.0</td>\n",
       "      <td>1.0</td>\n",
       "      <td>2.0</td>\n",
       "      <td>1.0</td>\n",
       "      <td>1.0</td>\n",
       "      <td>2.2</td>\n",
       "      <td>2.0</td>\n",
       "      <td>0.0</td>\n",
       "      <td>0.0</td>\n",
       "      <td>0.0</td>\n",
       "    </tr>\n",
       "    <tr>\n",
       "      <th>3</th>\n",
       "      <td>36.0</td>\n",
       "      <td>0.0</td>\n",
       "      <td>1.0</td>\n",
       "      <td>0.0</td>\n",
       "      <td>0.0</td>\n",
       "      <td>2.4</td>\n",
       "      <td>1.0</td>\n",
       "      <td>1.0</td>\n",
       "      <td>0.0</td>\n",
       "      <td>0.0</td>\n",
       "    </tr>\n",
       "    <tr>\n",
       "      <th>4</th>\n",
       "      <td>35.0</td>\n",
       "      <td>0.0</td>\n",
       "      <td>1.0</td>\n",
       "      <td>0.0</td>\n",
       "      <td>0.0</td>\n",
       "      <td>1.0</td>\n",
       "      <td>1.0</td>\n",
       "      <td>1.0</td>\n",
       "      <td>0.0</td>\n",
       "      <td>0.0</td>\n",
       "    </tr>\n",
       "    <tr>\n",
       "      <th>...</th>\n",
       "      <td>...</td>\n",
       "      <td>...</td>\n",
       "      <td>...</td>\n",
       "      <td>...</td>\n",
       "      <td>...</td>\n",
       "      <td>...</td>\n",
       "      <td>...</td>\n",
       "      <td>...</td>\n",
       "      <td>...</td>\n",
       "      <td>...</td>\n",
       "    </tr>\n",
       "    <tr>\n",
       "      <th>32118</th>\n",
       "      <td>56.0</td>\n",
       "      <td>1.0</td>\n",
       "      <td>0.0</td>\n",
       "      <td>0.0</td>\n",
       "      <td>0.0</td>\n",
       "      <td>3.0</td>\n",
       "      <td>1.0</td>\n",
       "      <td>1.0</td>\n",
       "      <td>0.0</td>\n",
       "      <td>0.0</td>\n",
       "    </tr>\n",
       "    <tr>\n",
       "      <th>32119</th>\n",
       "      <td>58.0</td>\n",
       "      <td>1.0</td>\n",
       "      <td>1.0</td>\n",
       "      <td>1.0</td>\n",
       "      <td>1.0</td>\n",
       "      <td>3.0</td>\n",
       "      <td>1.0</td>\n",
       "      <td>1.0</td>\n",
       "      <td>0.2</td>\n",
       "      <td>0.0</td>\n",
       "    </tr>\n",
       "    <tr>\n",
       "      <th>32120</th>\n",
       "      <td>71.0</td>\n",
       "      <td>0.0</td>\n",
       "      <td>2.0</td>\n",
       "      <td>1.0</td>\n",
       "      <td>1.0</td>\n",
       "      <td>3.0</td>\n",
       "      <td>2.0</td>\n",
       "      <td>1.0</td>\n",
       "      <td>0.0</td>\n",
       "      <td>1.0</td>\n",
       "    </tr>\n",
       "    <tr>\n",
       "      <th>32121</th>\n",
       "      <td>64.0</td>\n",
       "      <td>1.0</td>\n",
       "      <td>2.0</td>\n",
       "      <td>1.0</td>\n",
       "      <td>1.0</td>\n",
       "      <td>3.0</td>\n",
       "      <td>2.0</td>\n",
       "      <td>0.0</td>\n",
       "      <td>0.0</td>\n",
       "      <td>0.0</td>\n",
       "    </tr>\n",
       "    <tr>\n",
       "      <th>32122</th>\n",
       "      <td>54.0</td>\n",
       "      <td>1.0</td>\n",
       "      <td>2.0</td>\n",
       "      <td>1.0</td>\n",
       "      <td>0.0</td>\n",
       "      <td>2.2</td>\n",
       "      <td>1.0</td>\n",
       "      <td>0.4</td>\n",
       "      <td>0.2</td>\n",
       "      <td>0.0</td>\n",
       "    </tr>\n",
       "  </tbody>\n",
       "</table>\n",
       "<p>32123 rows × 10 columns</p>\n",
       "</div>"
      ],
      "text/plain": [
       "       AGE_P  SEX  BMI  HYPEV  CHLEV  SMKNOW  ALC1YR  DIBREL  DIBGDM  DIBEV1\n",
       "0       22.0  1.0  1.0    0.0    0.0     2.0     1.0     1.0     0.2     0.0\n",
       "1       24.0  0.0  0.0    0.0    0.0     2.0     1.0     0.0     0.0     0.0\n",
       "2       76.0  1.0  2.0    1.0    1.0     2.2     2.0     0.0     0.0     0.0\n",
       "3       36.0  0.0  1.0    0.0    0.0     2.4     1.0     1.0     0.0     0.0\n",
       "4       35.0  0.0  1.0    0.0    0.0     1.0     1.0     1.0     0.0     0.0\n",
       "...      ...  ...  ...    ...    ...     ...     ...     ...     ...     ...\n",
       "32118   56.0  1.0  0.0    0.0    0.0     3.0     1.0     1.0     0.0     0.0\n",
       "32119   58.0  1.0  1.0    1.0    1.0     3.0     1.0     1.0     0.2     0.0\n",
       "32120   71.0  0.0  2.0    1.0    1.0     3.0     2.0     1.0     0.0     1.0\n",
       "32121   64.0  1.0  2.0    1.0    1.0     3.0     2.0     0.0     0.0     0.0\n",
       "32122   54.0  1.0  2.0    1.0    0.0     2.2     1.0     0.4     0.2     0.0\n",
       "\n",
       "[32123 rows x 10 columns]"
      ]
     },
     "execution_count": 292,
     "metadata": {},
     "output_type": "execute_result"
    }
   ],
   "source": [
    "samadult_imputed"
   ]
  },
  {
   "cell_type": "markdown",
   "id": "ea024d25-2e42-408e-aef7-5ee2ad205430",
   "metadata": {},
   "source": [
    "### Preprocessing for samadult_imputed"
   ]
  },
  {
   "cell_type": "markdown",
   "id": "cee406f0-6b48-4da7-98ce-1973aacc96c8",
   "metadata": {},
   "source": [
    "Since we choose to fill value 9 (Don't know) with Nan and 7 (Refused) with the mode, we then fill all Nan values with KNNImputer. we can see every categorical variable that has Nan values will be filled with a float value in between the minimum and maximum original value."
   ]
  },
  {
   "cell_type": "code",
   "execution_count": 293,
   "id": "3ec0f182",
   "metadata": {},
   "outputs": [
    {
     "name": "stdout",
     "output_type": "stream",
     "text": [
      "85.0    1109\n",
      "68.0     610\n",
      "63.0     600\n",
      "59.0     595\n",
      "60.0     591\n",
      "        ... \n",
      "80.0     245\n",
      "81.0     227\n",
      "82.0     206\n",
      "83.0     186\n",
      "84.0     176\n",
      "Name: AGE_P, Length: 68, dtype: int64\n",
      "0.0    17552\n",
      "1.0    14571\n",
      "Name: SEX, dtype: int64\n",
      "2.0    10857\n",
      "0.0    10403\n",
      "1.0    10304\n",
      "3.0      559\n",
      "Name: BMI, dtype: int64\n",
      "0.0    20991\n",
      "1.0    11113\n",
      "0.4        7\n",
      "0.2        5\n",
      "0.8        4\n",
      "0.6        3\n",
      "Name: HYPEV, dtype: int64\n",
      "0.0    22592\n",
      "1.0     9485\n",
      "0.4       16\n",
      "0.6       14\n",
      "0.2       10\n",
      "0.8        6\n",
      "Name: CHLEV, dtype: int64\n",
      "3.0    10311\n",
      "1.0     4202\n",
      "2.2     3762\n",
      "2.0     2997\n",
      "2.6     2997\n",
      "1.8     2803\n",
      "2.4     1727\n",
      "1.4     1134\n",
      "1.6     1076\n",
      "2.8      792\n",
      "1.2      322\n",
      "Name: SMKNOW, dtype: int64\n",
      "1.0    21056\n",
      "2.0    10919\n",
      "1.4       60\n",
      "1.2       36\n",
      "1.6       32\n",
      "1.8       20\n",
      "Name: ALC1YR, dtype: int64\n",
      "0.0    20630\n",
      "1.0    11161\n",
      "0.2      121\n",
      "0.4      109\n",
      "0.6       75\n",
      "0.8       27\n",
      "Name: DIBREL, dtype: int64\n",
      "0.0    26535\n",
      "0.2     3820\n",
      "1.0      899\n",
      "0.4      690\n",
      "0.6      170\n",
      "0.8        9\n",
      "Name: DIBGDM, dtype: int64\n",
      "0.0    28604\n",
      "1.0     3519\n",
      "Name: DIBEV1, dtype: int64\n"
     ]
    }
   ],
   "source": [
    "for c in samadult_imputed.columns:\n",
    "    print(samadult_imputed[c].value_counts())"
   ]
  },
  {
   "cell_type": "markdown",
   "id": "6da39aad-4db4-4a97-98af-15baefc6fe66",
   "metadata": {},
   "source": [
    "We then standardize all columns to make sure we met the assumption of logistic regression"
   ]
  },
  {
   "cell_type": "code",
   "execution_count": 294,
   "id": "7d981bd8-34b8-4512-88f8-807a46636a21",
   "metadata": {},
   "outputs": [],
   "source": [
    "from sklearn.model_selection import train_test_split\n",
    "from sklearn.preprocessing import StandardScaler\n",
    "from sklearn.linear_model import LogisticRegression\n",
    "from sklearn.metrics import confusion_matrix, ConfusionMatrixDisplay\n",
    "import matplotlib.pyplot as plt"
   ]
  },
  {
   "cell_type": "code",
   "execution_count": 295,
   "id": "df0dc4c3-5f84-442a-8a1e-860e64eb26f5",
   "metadata": {},
   "outputs": [
    {
     "name": "stdout",
     "output_type": "stream",
     "text": [
      "  Features       VIF\n",
      "0    AGE_P  1.561848\n",
      "1      SEX  1.050674\n",
      "2      BMI  1.031125\n",
      "3    HYPEV  1.361827\n",
      "4    CHLEV  1.301010\n",
      "5   SMKNOW  1.198360\n",
      "6   ALC1YR  1.054662\n",
      "7   DIBREL  1.050155\n",
      "8   DIBGDM  1.029644\n"
     ]
    }
   ],
   "source": [
    "from statsmodels.stats.outliers_influence import variance_inflation_factor\n",
    "\n",
    "X_constant = pd.concat([pd.Series(1, index=X.index, name='constant'), X], axis=1)\n",
    "\n",
    "vif = pd.DataFrame()\n",
    "vif[\"Features\"] = X.columns\n",
    "vif[\"VIF\"] = [variance_inflation_factor(X_constant.values, i+1) for i in range(X.shape[1])]\n",
    "\n",
    "# Step 3: Display VIF values\n",
    "print(vif)"
   ]
  },
  {
   "cell_type": "code",
   "execution_count": 311,
   "id": "9d4b9616-0a08-4464-922c-89271636c0bb",
   "metadata": {},
   "outputs": [],
   "source": [
    "X = samadult_imputed.drop('DIBEV1', axis=1)\n",
    "y = samadult_imputed['DIBEV1']\n",
    "\n",
    "# Scale numerical features\n",
    "scaler = StandardScaler()\n",
    "X_scaled = scaler.fit_transform(X)\n",
    "\n",
    "# Plot the confusion matrix\n",
    "def cm_plot(y_test, y_pred, reg='l1'):\n",
    "    cm = confusion_matrix(y_test, y_pred)\n",
    "    TN, FP, FN, TP = cm.ravel()\n",
    "    precision = TP / (TP + FP)\n",
    "    recall = TP / (TP + FN)\n",
    "    f1 = 2 * (precision * recall) / (precision + recall)\n",
    "    print(f\"Logistic Regression Model {reg} (KNN Imputer) F1 score: {round(f1*100, 2)} %\")\n",
    "    disp = ConfusionMatrixDisplay(confusion_matrix=cm)\n",
    "    \n",
    "    # Plotting the confusion matrix\n",
    "    disp.plot(cmap=plt.cm.Blues)\n",
    "    plt.title(f\"Logistic Regression {reg} (KNN Imputer)\")\n",
    "    plt.show()\n",
    "    return f1\n",
    "\n",
    "def cross_validation(x, y, t=10):\n",
    "    accuracy_list_l1, fscore_list_l1 = [], []\n",
    "    accuracy_list_l2, fscore_list_l2 = [], []\n",
    "    for i in range(t, t+10):\n",
    "        X_train, X_test, y_train, y_test = train_test_split(x, y, test_size=0.2, random_state=i)\n",
    "        \n",
    "        # Create a Logistic Regression model\n",
    "        # Step 2: Train Logistic Regression with L1 (Lasso) regularization\n",
    "        model_l1 = LogisticRegression(penalty='l1', solver='liblinear', max_iter=2000)\n",
    "        model_l1.fit(X_train, y_train)\n",
    "        \n",
    "        # Step 3: Train Logistic Regression with L2 (Ridge) regularization\n",
    "        model_l2 = LogisticRegression(penalty='l2', solver='liblinear', max_iter=2000)\n",
    "        model_l2.fit(X_train, y_train)\n",
    "        \n",
    "        \n",
    "        accuracy_l1 = model_l1.score(X_test, y_test)\n",
    "        accuracy_l2 = model_l2.score(X_test, y_test)\n",
    "        accuracy_list_l1.append(accuracy_l1)\n",
    "        accuracy_list_l2.append(accuracy_l2)\n",
    "        print(f\"Logistic Regression Model L1 (KNN Imputer) Accuracy: {round(accuracy_l1*100, 2)} %\")\n",
    "        print(f\"Logistic Regression Model L2 (KNN Imputer) Accuracy: {round(accuracy_l2*100, 2)} %\")\n",
    "        y_pred_l1 = model_l1.predict(X_test)\n",
    "        y_pred_l2 = model_l2.predict(X_test)\n",
    "        \n",
    "        f1_l1 = cm_plot(y_test, y_pred_l1, reg='l1')\n",
    "        f1_l2 = cm_plot(y_test, y_pred_l2, reg='l2')\n",
    "        fscore_list_l1.append(f1_l1)\n",
    "        fscore_list_l2.append(f1_l2)\n",
    "    return accuracy_list_l1, fscore_list_l1, accuracy_list_l2, fscore_list_l2"
   ]
  },
  {
   "cell_type": "code",
   "execution_count": 312,
   "id": "f0785fcd-25d3-4c07-bea9-39874d7ef154",
   "metadata": {
    "scrolled": true
   },
   "outputs": [
    {
     "name": "stdout",
     "output_type": "stream",
     "text": [
      "Logistic Regression Model L1 (KNN Imputer) Accuracy: 89.65 %\n",
      "Logistic Regression Model L2 (KNN Imputer) Accuracy: 89.62 %\n",
      "Logistic Regression Model l1 (KNN Imputer) F1 score: 29.93 %\n"
     ]
    },
    {
     "data": {
      "image/png": "[encoded data removed]",
      "text/plain": [
       "<Figure size 432x288 with 2 Axes>"
      ]
     },
     "metadata": {
      "needs_background": "light"
     },
     "output_type": "display_data"
    },
    {
     "name": "stdout",
     "output_type": "stream",
     "text": [
      "Logistic Regression Model l2 (KNN Imputer) F1 score: 29.86 %\n"
     ]
    },
    {
     "data": {
      "image/png": "[encoded data removed]",
      "text/plain": [
       "<Figure size 432x288 with 2 Axes>"
      ]
     },
     "metadata": {
      "needs_background": "light"
     },
     "output_type": "display_data"
    },
    {
     "name": "stdout",
     "output_type": "stream",
     "text": [
      "Logistic Regression Model L1 (KNN Imputer) Accuracy: 89.37 %\n",
      "Logistic Regression Model L2 (KNN Imputer) Accuracy: 89.37 %\n",
      "Logistic Regression Model l1 (KNN Imputer) F1 score: 31.63 %\n"
     ]
    },
    {
     "data": {
      "image/png": "[encoded data removed]",
      "text/plain": [
       "<Figure size 432x288 with 2 Axes>"
      ]
     },
     "metadata": {
      "needs_background": "light"
     },
     "output_type": "display_data"
    },
    {
     "name": "stdout",
     "output_type": "stream",
     "text": [
      "Logistic Regression Model l2 (KNN Imputer) F1 score: 31.63 %\n"
     ]
    },
    {
     "data": {
      "image/png": "[encoded data removed]",
      "text/plain": [
       "<Figure size 432x288 with 2 Axes>"
      ]
     },
     "metadata": {
      "needs_background": "light"
     },
     "output_type": "display_data"
    },
    {
     "name": "stdout",
     "output_type": "stream",
     "text": [
      "Logistic Regression Model L1 (KNN Imputer) Accuracy: 89.82 %\n",
      "Logistic Regression Model L2 (KNN Imputer) Accuracy: 89.82 %\n",
      "Logistic Regression Model l1 (KNN Imputer) F1 score: 31.59 %\n"
     ]
    },
    {
     "data": {
      "image/png": "[encoded data removed]",
      "text/plain": [
       "<Figure size 432x288 with 2 Axes>"
      ]
     },
     "metadata": {
      "needs_background": "light"
     },
     "output_type": "display_data"
    },
    {
     "name": "stdout",
     "output_type": "stream",
     "text": [
      "Logistic Regression Model l2 (KNN Imputer) F1 score: 31.59 %\n"
     ]
    },
    {
     "data": {
      "image/png": "[encoded data removed]",
      "text/plain": [
       "<Figure size 432x288 with 2 Axes>"
      ]
     },
     "metadata": {
      "needs_background": "light"
     },
     "output_type": "display_data"
    },
    {
     "name": "stdout",
     "output_type": "stream",
     "text": [
      "Logistic Regression Model L1 (KNN Imputer) Accuracy: 89.59 %\n",
      "Logistic Regression Model L2 (KNN Imputer) Accuracy: 89.59 %\n",
      "Logistic Regression Model l1 (KNN Imputer) F1 score: 31.8 %\n"
     ]
    },
    {
     "data": {
      "image/png": "[encoded data removed]",
      "text/plain": [
       "<Figure size 432x288 with 2 Axes>"
      ]
     },
     "metadata": {
      "needs_background": "light"
     },
     "output_type": "display_data"
    },
    {
     "name": "stdout",
     "output_type": "stream",
     "text": [
      "Logistic Regression Model l2 (KNN Imputer) F1 score: 31.8 %\n"
     ]
    },
    {
     "data": {
      "image/png": "[encoded data removed]",
      "text/plain": [
       "<Figure size 432x288 with 2 Axes>"
      ]
     },
     "metadata": {
      "needs_background": "light"
     },
     "output_type": "display_data"
    },
    {
     "name": "stdout",
     "output_type": "stream",
     "text": [
      "Logistic Regression Model L1 (KNN Imputer) Accuracy: 89.4 %\n",
      "Logistic Regression Model L2 (KNN Imputer) Accuracy: 89.4 %\n",
      "Logistic Regression Model l1 (KNN Imputer) F1 score: 33.04 %\n"
     ]
    },
    {
     "data": {
      "image/png": "[encoded data removed]",
      "text/plain": [
       "<Figure size 432x288 with 2 Axes>"
      ]
     },
     "metadata": {
      "needs_background": "light"
     },
     "output_type": "display_data"
    },
    {
     "name": "stdout",
     "output_type": "stream",
     "text": [
      "Logistic Regression Model l2 (KNN Imputer) F1 score: 33.04 %\n"
     ]
    },
    {
     "data": {
      "image/png": "[encoded data removed]",
      "text/plain": [
       "<Figure size 432x288 with 2 Axes>"
      ]
     },
     "metadata": {
      "needs_background": "light"
     },
     "output_type": "display_data"
    },
    {
     "name": "stdout",
     "output_type": "stream",
     "text": [
      "Logistic Regression Model L1 (KNN Imputer) Accuracy: 89.9 %\n",
      "Logistic Regression Model L2 (KNN Imputer) Accuracy: 89.91 %\n",
      "Logistic Regression Model l1 (KNN Imputer) F1 score: 33.57 %\n"
     ]
    },
    {
     "data": {
      "image/png": "[encoded data removed]",
      "text/plain": [
       "<Figure size 432x288 with 2 Axes>"
      ]
     },
     "metadata": {
      "needs_background": "light"
     },
     "output_type": "display_data"
    },
    {
     "name": "stdout",
     "output_type": "stream",
     "text": [
      "Logistic Regression Model l2 (KNN Imputer) F1 score: 33.74 %\n"
     ]
    },
    {
     "data": {
      "image/png": "[encoded data removed]",
      "text/plain": [
       "<Figure size 432x288 with 2 Axes>"
      ]
     },
     "metadata": {
      "needs_background": "light"
     },
     "output_type": "display_data"
    },
    {
     "name": "stdout",
     "output_type": "stream",
     "text": [
      "Logistic Regression Model L1 (KNN Imputer) Accuracy: 89.84 %\n",
      "Logistic Regression Model L2 (KNN Imputer) Accuracy: 89.84 %\n",
      "Logistic Regression Model l1 (KNN Imputer) F1 score: 31.48 %\n"
     ]
    },
    {
     "data": {
      "image/png": "[encoded data removed]",
      "text/plain": [
       "<Figure size 432x288 with 2 Axes>"
      ]
     },
     "metadata": {
      "needs_background": "light"
     },
     "output_type": "display_data"
    },
    {
     "name": "stdout",
     "output_type": "stream",
     "text": [
      "Logistic Regression Model l2 (KNN Imputer) F1 score: 31.48 %\n"
     ]
    },
    {
     "data": {
      "image/png": "[encoded data removed]",
      "text/plain": [
       "<Figure size 432x288 with 2 Axes>"
      ]
     },
     "metadata": {
      "needs_background": "light"
     },
     "output_type": "display_data"
    },
    {
     "name": "stdout",
     "output_type": "stream",
     "text": [
      "Logistic Regression Model L1 (KNN Imputer) Accuracy: 89.43 %\n",
      "Logistic Regression Model L2 (KNN Imputer) Accuracy: 89.43 %\n",
      "Logistic Regression Model l1 (KNN Imputer) F1 score: 30.93 %\n"
     ]
    },
    {
     "data": {
      "image/png": "[encoded data removed]",
      "text/plain": [
       "<Figure size 432x288 with 2 Axes>"
      ]
     },
     "metadata": {
      "needs_background": "light"
     },
     "output_type": "display_data"
    },
    {
     "name": "stdout",
     "output_type": "stream",
     "text": [
      "Logistic Regression Model l2 (KNN Imputer) F1 score: 30.93 %\n"
     ]
    },
    {
     "data": {
      "image/png": "[encoded data removed]",
      "text/plain": [
       "<Figure size 432x288 with 2 Axes>"
      ]
     },
     "metadata": {
      "needs_background": "light"
     },
     "output_type": "display_data"
    },
    {
     "name": "stdout",
     "output_type": "stream",
     "text": [
      "Logistic Regression Model L1 (KNN Imputer) Accuracy: 90.09 %\n",
      "Logistic Regression Model L2 (KNN Imputer) Accuracy: 90.09 %\n",
      "Logistic Regression Model l1 (KNN Imputer) F1 score: 35.33 %\n"
     ]
    },
    {
     "data": {
      "image/png": "[encoded data removed]",
      "text/plain": [
       "<Figure size 432x288 with 2 Axes>"
      ]
     },
     "metadata": {
      "needs_background": "light"
     },
     "output_type": "display_data"
    },
    {
     "name": "stdout",
     "output_type": "stream",
     "text": [
      "Logistic Regression Model l2 (KNN Imputer) F1 score: 35.33 %\n"
     ]
    },
    {
     "data": {
      "image/png": "[encoded data removed]",
      "text/plain": [
       "<Figure size 432x288 with 2 Axes>"
      ]
     },
     "metadata": {
      "needs_background": "light"
     },
     "output_type": "display_data"
    },
    {
     "name": "stdout",
     "output_type": "stream",
     "text": [
      "Logistic Regression Model L1 (KNN Imputer) Accuracy: 89.71 %\n",
      "Logistic Regression Model L2 (KNN Imputer) Accuracy: 89.71 %\n",
      "Logistic Regression Model l1 (KNN Imputer) F1 score: 29.61 %\n"
     ]
    },
    {
     "data": {
      "image/png": "[encoded data removed]",
      "text/plain": [
       "<Figure size 432x288 with 2 Axes>"
      ]
     },
     "metadata": {
      "needs_background": "light"
     },
     "output_type": "display_data"
    },
    {
     "name": "stdout",
     "output_type": "stream",
     "text": [
      "Logistic Regression Model l2 (KNN Imputer) F1 score: 29.61 %\n"
     ]
    },
    {
     "data": {
      "image/png": "[encoded data removed]",
      "text/plain": [
       "<Figure size 432x288 with 2 Axes>"
      ]
     },
     "metadata": {
      "needs_background": "light"
     },
     "output_type": "display_data"
    }
   ],
   "source": [
    "accuracy_list_l1, fscore_list_l1, accuracy_list_l2, fscore_list_l2 = cross_validation(X_scaled, y, t=70)"
   ]
  },
  {
   "cell_type": "code",
   "execution_count": 313,
   "id": "b2638c20-0e74-490d-aa1d-862b807fc82b",
   "metadata": {},
   "outputs": [
    {
     "data": {
      "image/png": "[encoded data removed]",
      "text/plain": [
       "<Figure size 432x288 with 1 Axes>"
      ]
     },
     "metadata": {
      "needs_background": "light"
     },
     "output_type": "display_data"
    },
    {
     "data": {
      "image/png": "[encoded data removed]",
      "text/plain": [
       "<Figure size 432x288 with 1 Axes>"
      ]
     },
     "metadata": {
      "needs_background": "light"
     },
     "output_type": "display_data"
    },
    {
     "data": {
      "image/png": "[encoded data removed]",
      "text/plain": [
       "<Figure size 432x288 with 1 Axes>"
      ]
     },
     "metadata": {
      "needs_background": "light"
     },
     "output_type": "display_data"
    },
    {
     "data": {
      "image/png": "[encoded data removed]",
      "text/plain": [
       "<Figure size 432x288 with 1 Axes>"
      ]
     },
     "metadata": {
      "needs_background": "light"
     },
     "output_type": "display_data"
    }
   ],
   "source": [
    "import matplotlib.pyplot as plt\n",
    "import numpy as np\n",
    "\n",
    "# Example array (you can replace this with your own array)\n",
    "acc_array_l1 = np.array(accuracy_list_l1)\n",
    "f1_array_l1 = np.array(fscore_list_l1)\n",
    "acc_array_l2 = np.array(accuracy_list_l2)\n",
    "f1_array_l2 = np.array(fscore_list_l2)\n",
    "\n",
    "# Plot the array as a line plot\n",
    "plt.plot(acc_array_l1)\n",
    "\n",
    "# Add labels and title for the plot\n",
    "plt.title(\"Accuracy stability for Lasso Logistic Regression\")\n",
    "plt.xlabel(\"i\")\n",
    "plt.ylabel(\"Accuracy\")\n",
    "plt.ylim(0.5, 1)\n",
    "\n",
    "# Show the plot\n",
    "plt.show()\n",
    "\n",
    "# Plot the array as a line plot\n",
    "plt.plot(f1_array_l1)\n",
    "\n",
    "# Add labels and title for the plot\n",
    "plt.title(\"F1 score stability for Lasso Logistic Regression\")\n",
    "plt.xlabel(\"i\")\n",
    "plt.ylabel(\"F1 score\")\n",
    "plt.ylim(0, 0.5)\n",
    "# Show the plot\n",
    "plt.show()\n",
    "\n",
    "# Plot the array as a line plot\n",
    "plt.plot(acc_array_l2)\n",
    "\n",
    "# Add labels and title for the plot\n",
    "plt.title(\"Accuracy stability for Ridge Logistic Regression\")\n",
    "plt.xlabel(\"i\")\n",
    "plt.ylabel(\"Accuracy\")\n",
    "plt.ylim(0.5, 1)\n",
    "\n",
    "# Show the plot\n",
    "plt.show()\n",
    "\n",
    "# Plot the array as a line plot\n",
    "plt.plot(f1_array_l2)\n",
    "\n",
    "# Add labels and title for the plot\n",
    "plt.title(\"F1 score stability for Ridge Logistic Regression\")\n",
    "plt.xlabel(\"i\")\n",
    "plt.ylabel(\"F1 score\")\n",
    "plt.ylim(0, 0.5)\n",
    "# Show the plot\n",
    "plt.show()"
   ]
  },
  {
   "cell_type": "code",
   "execution_count": 314,
   "id": "c71c1368-df0c-45eb-88ee-91464b6daa9c",
   "metadata": {},
   "outputs": [
    {
     "name": "stdout",
     "output_type": "stream",
     "text": [
      "Average L1 accuracy:  0.8967937743190662\n",
      "Average L1 F1 score:  0.3189038059047714\n",
      "Average L2 accuracy:  0.8967782101167314\n",
      "Average L2 F1 score:  0.3190110411628241\n"
     ]
    }
   ],
   "source": [
    "print(\"Average L1 accuracy: \", sum(accuracy_list_l1)/10)\n",
    "print(\"Average L1 F1 score: \", sum(fscore_list_l1)/10)\n",
    "\n",
    "print(\"Average L2 accuracy: \", sum(accuracy_list_l2)/10)\n",
    "print(\"Average L2 F1 score: \", sum(fscore_list_l2)/10)"
   ]
  },
  {
   "cell_type": "code",
   "execution_count": 300,
   "id": "5c4fcf6b-e751-42aa-81e6-c458dec16075",
   "metadata": {},
   "outputs": [
    {
     "name": "stdout",
     "output_type": "stream",
     "text": [
      "L1 (Lasso) Regularization Model Performance:\n",
      "              precision    recall  f1-score   support\n",
      "\n",
      "         0.0       0.91      0.98      0.95      5721\n",
      "         1.0       0.60      0.23      0.34       704\n",
      "\n",
      "    accuracy                           0.90      6425\n",
      "   macro avg       0.75      0.61      0.64      6425\n",
      "weighted avg       0.88      0.90      0.88      6425\n",
      "\n",
      "Confusion Matrix for L1 (Lasso):\n",
      " [[5610  111]\n",
      " [ 540  164]]\n",
      "\n",
      "L2 (Ridge) Regularization Model Performance:\n",
      "              precision    recall  f1-score   support\n",
      "\n",
      "         0.0       0.91      0.98      0.95      5721\n",
      "         1.0       0.60      0.23      0.33       704\n",
      "\n",
      "    accuracy                           0.90      6425\n",
      "   macro avg       0.76      0.61      0.64      6425\n",
      "weighted avg       0.88      0.90      0.88      6425\n",
      "\n",
      "Confusion Matrix for L2 (Ridge):\n",
      " [[5613  108]\n",
      " [ 542  162]]\n",
      "\n",
      "L1 (Lasso) Regularization Coefficients:\n",
      "AGE_P: 0.026790176838134373\n",
      "SEX: 0.3240829662654482\n",
      "BMI: 0.03190437642187798\n",
      "HYPEV: 1.175070387607575\n",
      "CHLEV: 0.9843340153709099\n",
      "SMKNOW: 0.06730805993142687\n",
      "ALC1YR: 0.5091137292717253\n",
      "DIBREL: 1.4237275199689277\n",
      "DIBGDM: 1.897159261882805\n",
      "\n",
      "L2 (Ridge) Regularization Coefficients:\n",
      "AGE_P: 0.026403103977008027\n",
      "SEX: 0.31745336077351605\n",
      "BMI: 0.032396806583741763\n",
      "HYPEV: 1.1741632155918462\n",
      "CHLEV: 0.9810154056313605\n",
      "SMKNOW: 0.058478101879459024\n",
      "ALC1YR: 0.49501429176373773\n",
      "DIBREL: 1.4103623522062845\n",
      "DIBGDM: 1.8820758484367663\n"
     ]
    },
    {
     "data": {
      "image/png": "[encoded data removed]",
      "text/plain": [
       "<Figure size 864x576 with 1 Axes>"
      ]
     },
     "metadata": {
      "needs_background": "light"
     },
     "output_type": "display_data"
    }
   ],
   "source": [
    "from sklearn.linear_model import LogisticRegression\n",
    "from sklearn.metrics import classification_report, confusion_matrix\n",
    "from sklearn.model_selection import train_test_split\n",
    "import matplotlib.pyplot as plt\n",
    "import numpy as np\n",
    "\n",
    "# Assuming X_new is your updated feature set after removing some features\n",
    "# y is the target variable (DIBEV1)\n",
    "X = samadult_imputed.drop('DIBEV1', axis=1)\n",
    "y = samadult_imputed['DIBEV1']\n",
    "\n",
    "# Step 1: Split the data into training and testing sets (80% train, 20% test)\n",
    "X_train, X_test, y_train, y_test = train_test_split(X, y, test_size=0.2, random_state=54)\n",
    "\n",
    "# Step 2: Train Logistic Regression with L1 (Lasso) regularization\n",
    "model_l1 = LogisticRegression(penalty='l1', solver='liblinear', max_iter=1000)\n",
    "model_l1.fit(X_train, y_train)\n",
    "\n",
    "# Step 3: Train Logistic Regression with L2 (Ridge) regularization\n",
    "model_l2 = LogisticRegression(penalty='l2', solver='liblinear', max_iter=1000)\n",
    "model_l2.fit(X_train, y_train)\n",
    "\n",
    "# Step 4: Evaluate L1 model\n",
    "y_pred_l1 = model_l1.predict(X_test)\n",
    "print(\"L1 (Lasso) Regularization Model Performance:\")\n",
    "print(classification_report(y_test, y_pred_l1))\n",
    "print(\"Confusion Matrix for L1 (Lasso):\\n\", confusion_matrix(y_test, y_pred_l1))\n",
    "\n",
    "# Step 5: Evaluate L2 model\n",
    "y_pred_l2 = model_l2.predict(X_test)\n",
    "print(\"\\nL2 (Ridge) Regularization Model Performance:\")\n",
    "print(classification_report(y_test, y_pred_l2))\n",
    "print(\"Confusion Matrix for L2 (Ridge):\\n\", confusion_matrix(y_test, y_pred_l2))\n",
    "\n",
    "# Step 6: Coefficients from L1 (Lasso)\n",
    "print(\"\\nL1 (Lasso) Regularization Coefficients:\")\n",
    "for name, coef in zip(X.columns, model_l1.coef_[0]):\n",
    "    print(f\"{name}: {coef}\")\n",
    "\n",
    "# Step 7: Coefficients from L2 (Ridge)\n",
    "print(\"\\nL2 (Ridge) Regularization Coefficients:\")\n",
    "for name, coef in zip(X.columns, model_l2.coef_[0]):\n",
    "    print(f\"{name}: {coef}\")\n",
    "\n",
    "# Step 8: Plotting the coefficients for L1 and L2 regularization\n",
    "# Coefficients for L1 and L2\n",
    "coef_l1 = model_l1.coef_[0]\n",
    "coef_l2 = model_l2.coef_[0]\n",
    "\n",
    "# Plot the coefficients\n",
    "fig, ax = plt.subplots(figsize=(12, 8))\n",
    "x_labels = X.columns  # Use the columns from the updated feature set\n",
    "\n",
    "ax.barh(np.arange(len(coef_l1)), coef_l1, height=0.4, label='L1 (Lasso)', align='center')\n",
    "ax.barh(np.arange(len(coef_l2)) + 0.4, coef_l2, height=0.4, label='L2 (Ridge)', align='center')\n",
    "ax.set_yticks(np.arange(len(x_labels)) + 0.2)\n",
    "ax.set_yticklabels(x_labels)\n",
    "ax.set_xlabel(\"Coefficient Value\")\n",
    "ax.set_title(\"Feature Coefficients for L1 and L2 Regularization\")\n",
    "ax.legend()\n",
    "\n",
    "plt.show()"
   ]
  },
  {
   "cell_type": "code",
   "execution_count": 318,
   "id": "3e27a7da-e0fa-4233-b90c-cc7a725858fe",
   "metadata": {},
   "outputs": [
    {
     "data": {
      "image/png": "[encoded data removed]",
      "text/plain": [
       "<Figure size 720x576 with 2 Axes>"
      ]
     },
     "metadata": {
      "needs_background": "light"
     },
     "output_type": "display_data"
    }
   ],
   "source": [
    "import seaborn as sns\n",
    "import matplotlib.pyplot as plt\n",
    "\n",
    "# Step 2: Calculate the correlation matrix\n",
    "column_names = X.columns\n",
    "temp = pd.DataFrame(X_scaled)\n",
    "temp.columns = column_names\n",
    "corr_matrix = temp.corr()\n",
    "\n",
    "# Step 3: Create a heatmap for the correlation matrix\n",
    "plt.figure(figsize=(10, 8))\n",
    "sns.heatmap(corr_matrix, annot=True, cmap='coolwarm', fmt='.2f', linewidths=0.5)\n",
    "plt.title('Correlation Matrix of Selected Features')\n",
    "plt.show()"
   ]
  },
  {
   "cell_type": "markdown",
   "id": "c1cb3c61-5a70-409f-a589-bb4e6fd2a2ea",
   "metadata": {},
   "source": [
    "## Preprocess Nan -- make it a new category"
   ]
  },
  {
   "cell_type": "markdown",
   "id": "139edb34-faf4-46b9-95a1-11f29f374b42",
   "metadata": {},
   "source": [
    "Preprocessing from previous steps -- excluding filling 7 with mode"
   ]
  },
  {
   "cell_type": "code",
   "execution_count": 171,
   "id": "6b4cd3d2-80e8-4299-9fbc-e5dca25b145d",
   "metadata": {},
   "outputs": [
    {
     "name": "stderr",
     "output_type": "stream",
     "text": [
      "/var/folders/nl/hvb2wh_x56xfglf7ds9c47tc0000gn/T/ipykernel_84198/2597863787.py:3: SettingWithCopyWarning: \n",
      "A value is trying to be set on a copy of a slice from a DataFrame.\n",
      "Try using .loc[row_indexer,col_indexer] = value instead\n",
      "\n",
      "See the caveats in the documentation: https://pandas.pydata.org/pandas-docs/stable/user_guide/indexing.html#returning-a-view-versus-a-copy\n",
      "  samadult['BMI']=samadult['BMI']/100\n",
      "/var/folders/nl/hvb2wh_x56xfglf7ds9c47tc0000gn/T/ipykernel_84198/2597863787.py:14: SettingWithCopyWarning: \n",
      "A value is trying to be set on a copy of a slice from a DataFrame.\n",
      "Try using .loc[row_indexer,col_indexer] = value instead\n",
      "\n",
      "See the caveats in the documentation: https://pandas.pydata.org/pandas-docs/stable/user_guide/indexing.html#returning-a-view-versus-a-copy\n",
      "  samadult['BMI'] = samadult['BMI'].apply(categorize_bmi)\n"
     ]
    }
   ],
   "source": [
    "df = pd.read_csv(\"samadult.csv\")\n",
    "samadult = df[columns_to_keep]\n",
    "samadult['BMI']=samadult['BMI']/100\n",
    "def categorize_bmi(bmi):\n",
    "    if bmi < 18.5:\n",
    "        return 'Underweight'\n",
    "    elif 18.5 <= bmi < 25:\n",
    "        return 'Normal weight'\n",
    "    elif 25 <= bmi < 30:\n",
    "        return 'Overweight'\n",
    "    else:\n",
    "        return 'Obesity'\n",
    "\n",
    "samadult['BMI'] = samadult['BMI'].apply(categorize_bmi)\n",
    "categorical_columns = ['SEX', 'HYPEV', 'CHLEV', 'SMKNOW', 'DIBREL', 'DIBGDM', 'ALC1YR']\n",
    "samadult[categorical_columns] = samadult[categorical_columns].replace([9], np.nan)\n",
    "samadult = samadult[samadult[\"DIBEV1\"].isin({1, 2})]\n",
    "samadult.loc[samadult[\"DIBEV1\"] == 2, \"DIBEV1\"] = 0\n",
    "samadult.loc[samadult[\"SEX\"]==2, \"SEX\"] = 0\n",
    "label_encoder = LabelEncoder()\n",
    "samadult['BMI'] = label_encoder.fit_transform(samadult['BMI']) "
   ]
  },
  {
   "cell_type": "markdown",
   "id": "29097673-8c79-433a-9055-a4a690dec993",
   "metadata": {},
   "source": [
    "##### Take a look at the original feature distributions"
   ]
  },
  {
   "cell_type": "code",
   "execution_count": 172,
   "id": "81b5ec76-7f7c-4b30-8f27-9e1bfba5626e",
   "metadata": {},
   "outputs": [
    {
     "name": "stdout",
     "output_type": "stream",
     "text": [
      "85    1108\n",
      "68     610\n",
      "63     599\n",
      "59     595\n",
      "60     591\n",
      "      ... \n",
      "80     245\n",
      "81     227\n",
      "82     206\n",
      "83     186\n",
      "84     176\n",
      "Name: AGE_P, Length: 68, dtype: int64\n",
      "0.0    17541\n",
      "1.0    14565\n",
      "Name: SEX, dtype: int64\n",
      "2    10852\n",
      "0    10400\n",
      "1    10295\n",
      "3      559\n",
      "Name: BMI, dtype: int64\n",
      "2.0    20958\n",
      "1.0    11111\n",
      "NaN       26\n",
      "7.0       11\n",
      "Name: HYPEV, dtype: int64\n",
      "2.0    22554\n",
      "1.0     9480\n",
      "NaN       61\n",
      "7.0       11\n",
      "Name: CHLEV, dtype: int64\n",
      "NaN    19052\n",
      "3.0     7853\n",
      "1.0     3998\n",
      "2.0     1197\n",
      "7.0        3\n",
      "8.0        3\n",
      "Name: SMKNOW, dtype: int64\n",
      "1.0    20979\n",
      "2.0    10909\n",
      "8.0      153\n",
      "7.0       45\n",
      "NaN       20\n",
      "Name: ALC1YR, dtype: int64\n",
      "2.0    20526\n",
      "1.0    11146\n",
      "NaN      420\n",
      "7.0       14\n",
      "Name: DIBREL, dtype: int64\n",
      "NaN    18865\n",
      "2.0    12341\n",
      "1.0      898\n",
      "7.0        2\n",
      "Name: DIBGDM, dtype: int64\n",
      "0    28587\n",
      "1     3519\n",
      "Name: DIBEV1, dtype: int64\n"
     ]
    }
   ],
   "source": [
    "for c in columns_to_keep:\n",
    "    print(samadult[c].value_counts(dropna=False))"
   ]
  },
  {
   "cell_type": "markdown",
   "id": "e8c1620e-8d8e-4e0f-9a7d-c3db7f52ab57",
   "metadata": {},
   "source": [
    "As we observe, data points of 7 (refuse to answer) has extremely low proportion, therefore we fill 7 with Nan as well. Also, there are unexplainable value 8 in some columns, we also fill it with nan value. In the end, we fill nan with value 0."
   ]
  },
  {
   "cell_type": "code",
   "execution_count": 173,
   "id": "d158519e-34cc-46f0-84d2-c5470cfc4ffd",
   "metadata": {},
   "outputs": [],
   "source": [
    "# fill nan for 8 and 7\n",
    "samadult[categorical_columns] = samadult[categorical_columns].replace([7], np.nan)\n",
    "samadult[categorical_columns] = samadult[categorical_columns].replace([8], np.nan)\n",
    "samadult = samadult.fillna(value=0)"
   ]
  },
  {
   "cell_type": "code",
   "execution_count": 174,
   "id": "6c87a5c9-7b5d-44bf-9143-98f653b6b823",
   "metadata": {},
   "outputs": [],
   "source": [
    "# Increase readability for smoking\n",
    "def smk_func(x):\n",
    "    if x == 3:\n",
    "        return 0\n",
    "    elif x == 1:\n",
    "        return 2\n",
    "    elif x == 2:\n",
    "        return 1\n",
    "    elif x == 0:\n",
    "        return 0\n",
    "samadult['SMKNOW'] = samadult['SMKNOW'].apply(smk_func)"
   ]
  },
  {
   "cell_type": "code",
   "execution_count": 175,
   "id": "9405face-a006-4a5b-8eab-975f883028cf",
   "metadata": {},
   "outputs": [],
   "source": [
    "samadult.loc[samadult['DIBGDM']==2, 'DIBGDM'] = 0\n",
    "samadult.loc[(samadult['SEX']==1) & (samadult['DIBGDM']==1), 'DIBGDM'] = 0"
   ]
  },
  {
   "cell_type": "code",
   "execution_count": 176,
   "id": "f0825316-7e18-4576-ab80-3c138ac1539b",
   "metadata": {},
   "outputs": [],
   "source": [
    "for c in [\"HYPEV\", \"CHLEV\", \"SMKNOW\", \"ALC1YR\", \"DIBREL\", \"DIBGDM\"]:\n",
    "    samadult[c] = samadult[c].astype(str)"
   ]
  },
  {
   "cell_type": "code",
   "execution_count": 180,
   "id": "be412e45-375d-4a9d-b8da-06c09dfeb441",
   "metadata": {},
   "outputs": [
    {
     "data": {
      "text/html": [
       "<div>\n",
       "<style scoped>\n",
       "    .dataframe tbody tr th:only-of-type {\n",
       "        vertical-align: middle;\n",
       "    }\n",
       "\n",
       "    .dataframe tbody tr th {\n",
       "        vertical-align: top;\n",
       "    }\n",
       "\n",
       "    .dataframe thead th {\n",
       "        text-align: right;\n",
       "    }\n",
       "</style>\n",
       "<table border=\"1\" class=\"dataframe\">\n",
       "  <thead>\n",
       "    <tr style=\"text-align: right;\">\n",
       "      <th></th>\n",
       "      <th>AGE_P</th>\n",
       "      <th>SEX</th>\n",
       "      <th>BMI</th>\n",
       "      <th>HYPEV_0.0</th>\n",
       "      <th>HYPEV_1.0</th>\n",
       "      <th>HYPEV_2.0</th>\n",
       "      <th>CHLEV_0.0</th>\n",
       "      <th>CHLEV_1.0</th>\n",
       "      <th>CHLEV_2.0</th>\n",
       "      <th>SMKNOW_0</th>\n",
       "      <th>SMKNOW_1</th>\n",
       "      <th>SMKNOW_2</th>\n",
       "      <th>ALC1YR_0.0</th>\n",
       "      <th>ALC1YR_1.0</th>\n",
       "      <th>ALC1YR_2.0</th>\n",
       "      <th>DIBREL_0.0</th>\n",
       "      <th>DIBREL_1.0</th>\n",
       "      <th>DIBREL_2.0</th>\n",
       "      <th>DIBGDM_0.0</th>\n",
       "      <th>DIBGDM_1.0</th>\n",
       "    </tr>\n",
       "  </thead>\n",
       "  <tbody>\n",
       "    <tr>\n",
       "      <th>0</th>\n",
       "      <td>-1.532003</td>\n",
       "      <td>1.0</td>\n",
       "      <td>-0.057266</td>\n",
       "      <td>0</td>\n",
       "      <td>0</td>\n",
       "      <td>1</td>\n",
       "      <td>0</td>\n",
       "      <td>0</td>\n",
       "      <td>1</td>\n",
       "      <td>1</td>\n",
       "      <td>0</td>\n",
       "      <td>0</td>\n",
       "      <td>0</td>\n",
       "      <td>1</td>\n",
       "      <td>0</td>\n",
       "      <td>0</td>\n",
       "      <td>1</td>\n",
       "      <td>0</td>\n",
       "      <td>1</td>\n",
       "      <td>0</td>\n",
       "    </tr>\n",
       "    <tr>\n",
       "      <th>1</th>\n",
       "      <td>-1.424608</td>\n",
       "      <td>0.0</td>\n",
       "      <td>-1.228331</td>\n",
       "      <td>0</td>\n",
       "      <td>0</td>\n",
       "      <td>1</td>\n",
       "      <td>0</td>\n",
       "      <td>0</td>\n",
       "      <td>1</td>\n",
       "      <td>1</td>\n",
       "      <td>0</td>\n",
       "      <td>0</td>\n",
       "      <td>0</td>\n",
       "      <td>1</td>\n",
       "      <td>0</td>\n",
       "      <td>0</td>\n",
       "      <td>0</td>\n",
       "      <td>1</td>\n",
       "      <td>1</td>\n",
       "      <td>0</td>\n",
       "    </tr>\n",
       "    <tr>\n",
       "      <th>2</th>\n",
       "      <td>1.367662</td>\n",
       "      <td>1.0</td>\n",
       "      <td>1.113799</td>\n",
       "      <td>0</td>\n",
       "      <td>1</td>\n",
       "      <td>0</td>\n",
       "      <td>0</td>\n",
       "      <td>1</td>\n",
       "      <td>0</td>\n",
       "      <td>1</td>\n",
       "      <td>0</td>\n",
       "      <td>0</td>\n",
       "      <td>0</td>\n",
       "      <td>0</td>\n",
       "      <td>1</td>\n",
       "      <td>0</td>\n",
       "      <td>0</td>\n",
       "      <td>1</td>\n",
       "      <td>1</td>\n",
       "      <td>0</td>\n",
       "    </tr>\n",
       "    <tr>\n",
       "      <th>3</th>\n",
       "      <td>-0.780238</td>\n",
       "      <td>0.0</td>\n",
       "      <td>-0.057266</td>\n",
       "      <td>0</td>\n",
       "      <td>0</td>\n",
       "      <td>1</td>\n",
       "      <td>0</td>\n",
       "      <td>0</td>\n",
       "      <td>1</td>\n",
       "      <td>1</td>\n",
       "      <td>0</td>\n",
       "      <td>0</td>\n",
       "      <td>0</td>\n",
       "      <td>1</td>\n",
       "      <td>0</td>\n",
       "      <td>0</td>\n",
       "      <td>1</td>\n",
       "      <td>0</td>\n",
       "      <td>1</td>\n",
       "      <td>0</td>\n",
       "    </tr>\n",
       "    <tr>\n",
       "      <th>4</th>\n",
       "      <td>-0.833935</td>\n",
       "      <td>0.0</td>\n",
       "      <td>-0.057266</td>\n",
       "      <td>0</td>\n",
       "      <td>0</td>\n",
       "      <td>1</td>\n",
       "      <td>0</td>\n",
       "      <td>0</td>\n",
       "      <td>1</td>\n",
       "      <td>0</td>\n",
       "      <td>0</td>\n",
       "      <td>1</td>\n",
       "      <td>0</td>\n",
       "      <td>1</td>\n",
       "      <td>0</td>\n",
       "      <td>0</td>\n",
       "      <td>1</td>\n",
       "      <td>0</td>\n",
       "      <td>1</td>\n",
       "      <td>0</td>\n",
       "    </tr>\n",
       "  </tbody>\n",
       "</table>\n",
       "</div>"
      ],
      "text/plain": [
       "      AGE_P  SEX       BMI  HYPEV_0.0  HYPEV_1.0  HYPEV_2.0  CHLEV_0.0  \\\n",
       "0 -1.532003  1.0 -0.057266          0          0          1          0   \n",
       "1 -1.424608  0.0 -1.228331          0          0          1          0   \n",
       "2  1.367662  1.0  1.113799          0          1          0          0   \n",
       "3 -0.780238  0.0 -0.057266          0          0          1          0   \n",
       "4 -0.833935  0.0 -0.057266          0          0          1          0   \n",
       "\n",
       "   CHLEV_1.0  CHLEV_2.0  SMKNOW_0  SMKNOW_1  SMKNOW_2  ALC1YR_0.0  ALC1YR_1.0  \\\n",
       "0          0          1         1         0         0           0           1   \n",
       "1          0          1         1         0         0           0           1   \n",
       "2          1          0         1         0         0           0           0   \n",
       "3          0          1         1         0         0           0           1   \n",
       "4          0          1         0         0         1           0           1   \n",
       "\n",
       "   ALC1YR_2.0  DIBREL_0.0  DIBREL_1.0  DIBREL_2.0  DIBGDM_0.0  DIBGDM_1.0  \n",
       "0           0           0           1           0           1           0  \n",
       "1           0           0           0           1           1           0  \n",
       "2           1           0           0           1           1           0  \n",
       "3           0           0           1           0           1           0  \n",
       "4           0           0           1           0           1           0  "
      ]
     },
     "execution_count": 180,
     "metadata": {},
     "output_type": "execute_result"
    }
   ],
   "source": [
    "onehot_df.head()"
   ]
  },
  {
   "cell_type": "code",
   "execution_count": 182,
   "id": "b96e9282-6a60-437c-9764-0d3982340718",
   "metadata": {},
   "outputs": [],
   "source": [
    "X = samadult.drop('DIBEV1', axis=1)\n",
    "y = samadult['DIBEV1']\n",
    "\n",
    "onehot_df = pd.get_dummies(X, drop_first=True)\n",
    "\n",
    "# Scale numerical features\n",
    "scaler = StandardScaler()\n",
    "columns_to_scale = [\"AGE_P\", \"BMI\"]\n",
    "onehot_df[columns_to_scale] = scaler.fit_transform(onehot_df[columns_to_scale])\n",
    "\n",
    "# Split the dataset into training and testing sets (80% train, 20% test)\n",
    "def cross_validation(x, y, t=10):\n",
    "    accuracy_list, fscore_list = [], []\n",
    "    for i in range(t, t+10):\n",
    "        X_train, X_test, y_train, y_test = train_test_split(x, y, test_size=0.2, random_state=i)\n",
    "        \n",
    "        # Create a Logistic Regression model\n",
    "        model = LogisticRegression()\n",
    "        \n",
    "        # Train the model\n",
    "        model.fit(X_train, y_train)\n",
    "        \n",
    "        accuracy = model.score(X_test, y_test)\n",
    "        accuracy_list.append(accuracy)\n",
    "        print(f\"Logistic Regression Model (KNN Imputer) Accuracy: {round(accuracy*100, 2)} %\")\n",
    "        y_pred = model.predict(X_test)\n",
    "        \n",
    "        # Plot the confusion matrix\n",
    "        cm = confusion_matrix(y_test, y_pred)\n",
    "        TN, FP, FN, TP = cm.ravel()\n",
    "        precision = TP / (TP + FP)\n",
    "        recall = TP / (TP + FN)\n",
    "        f1 = 2 * (precision * recall) / (precision + recall)\n",
    "        fscore_list.append(f1)\n",
    "        print(f\"Logistic Regression Model (KNN Imputer) F1 score: {round(f1*100, 2)} %\")\n",
    "        disp = ConfusionMatrixDisplay(confusion_matrix=cm)\n",
    "        \n",
    "        # Plotting the confusion matrix\n",
    "        disp.plot(cmap=plt.cm.Blues)\n",
    "        plt.title(\"Nan as category\")\n",
    "        plt.show()\n",
    "    return accuracy_list, fscore_list"
   ]
  },
  {
   "cell_type": "code",
   "execution_count": 183,
   "id": "b8a0c242-22b3-4b75-8117-ca9ad82adbb5",
   "metadata": {},
   "outputs": [
    {
     "name": "stdout",
     "output_type": "stream",
     "text": [
      "Logistic Regression Model (Nan as category) Accuracy: 88.93 %\n",
      "Logistic Regression Model (Nan as category) F1 score: 28.97 %\n"
     ]
    },
    {
     "data": {
      "image/png": "[encoded data removed]",
      "text/plain": [
       "<Figure size 432x288 with 2 Axes>"
      ]
     },
     "metadata": {
      "needs_background": "light"
     },
     "output_type": "display_data"
    },
    {
     "name": "stdout",
     "output_type": "stream",
     "text": [
      "Logistic Regression Model (Nan as category) Accuracy: 89.05 %\n",
      "Logistic Regression Model (Nan as category) F1 score: 28.48 %\n"
     ]
    },
    {
     "data": {
      "image/png": "[encoded data removed]",
      "text/plain": [
       "<Figure size 432x288 with 2 Axes>"
      ]
     },
     "metadata": {
      "needs_background": "light"
     },
     "output_type": "display_data"
    },
    {
     "name": "stdout",
     "output_type": "stream",
     "text": [
      "Logistic Regression Model (Nan as category) Accuracy: 89.04 %\n",
      "Logistic Regression Model (Nan as category) F1 score: 30.98 %\n"
     ]
    },
    {
     "data": {
      "image/png": "[encoded data removed]",
      "text/plain": [
       "<Figure size 432x288 with 2 Axes>"
      ]
     },
     "metadata": {
      "needs_background": "light"
     },
     "output_type": "display_data"
    },
    {
     "name": "stdout",
     "output_type": "stream",
     "text": [
      "Logistic Regression Model (Nan as category) Accuracy: 89.36 %\n",
      "Logistic Regression Model (Nan as category) F1 score: 26.64 %\n"
     ]
    },
    {
     "data": {
      "image/png": "[encoded data removed]",
      "text/plain": [
       "<Figure size 432x288 with 2 Axes>"
      ]
     },
     "metadata": {
      "needs_background": "light"
     },
     "output_type": "display_data"
    },
    {
     "name": "stdout",
     "output_type": "stream",
     "text": [
      "Logistic Regression Model (Nan as category) Accuracy: 89.35 %\n",
      "Logistic Regression Model (Nan as category) F1 score: 30.91 %\n"
     ]
    },
    {
     "data": {
      "image/png": "[encoded data removed]",
      "text/plain": [
       "<Figure size 432x288 with 2 Axes>"
      ]
     },
     "metadata": {
      "needs_background": "light"
     },
     "output_type": "display_data"
    },
    {
     "name": "stdout",
     "output_type": "stream",
     "text": [
      "Logistic Regression Model (Nan as category) Accuracy: 89.77 %\n",
      "Logistic Regression Model (Nan as category) F1 score: 28.97 %\n"
     ]
    },
    {
     "data": {
      "image/png": "[encoded data removed]",
      "text/plain": [
       "<Figure size 432x288 with 2 Axes>"
      ]
     },
     "metadata": {
      "needs_background": "light"
     },
     "output_type": "display_data"
    },
    {
     "name": "stdout",
     "output_type": "stream",
     "text": [
      "Logistic Regression Model (Nan as category) Accuracy: 88.6 %\n",
      "Logistic Regression Model (Nan as category) F1 score: 24.54 %\n"
     ]
    },
    {
     "data": {
      "image/png": "[encoded data removed]",
      "text/plain": [
       "<Figure size 432x288 with 2 Axes>"
      ]
     },
     "metadata": {
      "needs_background": "light"
     },
     "output_type": "display_data"
    },
    {
     "name": "stdout",
     "output_type": "stream",
     "text": [
      "Logistic Regression Model (Nan as category) Accuracy: 89.57 %\n",
      "Logistic Regression Model (Nan as category) F1 score: 30.64 %\n"
     ]
    },
    {
     "data": {
      "image/png": "[encoded data removed]",
      "text/plain": [
       "<Figure size 432x288 with 2 Axes>"
      ]
     },
     "metadata": {
      "needs_background": "light"
     },
     "output_type": "display_data"
    },
    {
     "name": "stdout",
     "output_type": "stream",
     "text": [
      "Logistic Regression Model (Nan as category) Accuracy: 89.61 %\n",
      "Logistic Regression Model (Nan as category) F1 score: 29.86 %\n"
     ]
    },
    {
     "data": {
      "image/png": "[encoded data removed]",
      "text/plain": [
       "<Figure size 432x288 with 2 Axes>"
      ]
     },
     "metadata": {
      "needs_background": "light"
     },
     "output_type": "display_data"
    },
    {
     "name": "stdout",
     "output_type": "stream",
     "text": [
      "Logistic Regression Model (Nan as category) Accuracy: 89.18 %\n",
      "Logistic Regression Model (Nan as category) F1 score: 28.72 %\n"
     ]
    },
    {
     "data": {
      "image/png": "[encoded data removed]",
      "text/plain": [
       "<Figure size 432x288 with 2 Axes>"
      ]
     },
     "metadata": {
      "needs_background": "light"
     },
     "output_type": "display_data"
    },
    {
     "name": "stdout",
     "output_type": "stream",
     "text": [
      "Logistic Regression Model (Nan as category) Accuracy: 89.75 %\n",
      "Logistic Regression Model (Nan as category) F1 score: 31.03 %\n"
     ]
    },
    {
     "name": "stderr",
     "output_type": "stream",
     "text": [
      "/opt/homebrew/Caskroom/miniforge/base/envs/base_env/lib/python3.8/site-packages/sklearn/linear_model/_logistic.py:814: ConvergenceWarning: lbfgs failed to converge (status=1):\n",
      "STOP: TOTAL NO. of ITERATIONS REACHED LIMIT.\n",
      "\n",
      "Increase the number of iterations (max_iter) or scale the data as shown in:\n",
      "    https://scikit-learn.org/stable/modules/preprocessing.html\n",
      "Please also refer to the documentation for alternative solver options:\n",
      "    https://scikit-learn.org/stable/modules/linear_model.html#logistic-regression\n",
      "  n_iter_i = _check_optimize_result(\n"
     ]
    },
    {
     "data": {
      "image/png": "[encoded data removed]",
      "text/plain": [
       "<Figure size 432x288 with 2 Axes>"
      ]
     },
     "metadata": {
      "needs_background": "light"
     },
     "output_type": "display_data"
    },
    {
     "name": "stdout",
     "output_type": "stream",
     "text": [
      "Logistic Regression Model (Nan as category) Accuracy: 89.36 %\n",
      "Logistic Regression Model (Nan as category) F1 score: 29.08 %\n"
     ]
    },
    {
     "name": "stderr",
     "output_type": "stream",
     "text": [
      "/opt/homebrew/Caskroom/miniforge/base/envs/base_env/lib/python3.8/site-packages/sklearn/linear_model/_logistic.py:814: ConvergenceWarning: lbfgs failed to converge (status=1):\n",
      "STOP: TOTAL NO. of ITERATIONS REACHED LIMIT.\n",
      "\n",
      "Increase the number of iterations (max_iter) or scale the data as shown in:\n",
      "    https://scikit-learn.org/stable/modules/preprocessing.html\n",
      "Please also refer to the documentation for alternative solver options:\n",
      "    https://scikit-learn.org/stable/modules/linear_model.html#logistic-regression\n",
      "  n_iter_i = _check_optimize_result(\n"
     ]
    },
    {
     "data": {
      "image/png": "[encoded data removed]",
      "text/plain": [
       "<Figure size 432x288 with 2 Axes>"
      ]
     },
     "metadata": {
      "needs_background": "light"
     },
     "output_type": "display_data"
    },
    {
     "name": "stdout",
     "output_type": "stream",
     "text": [
      "Logistic Regression Model (Nan as category) Accuracy: 89.18 %\n",
      "Logistic Regression Model (Nan as category) F1 score: 27.98 %\n"
     ]
    },
    {
     "data": {
      "image/png": "[encoded data removed]",
      "text/plain": [
       "<Figure size 432x288 with 2 Axes>"
      ]
     },
     "metadata": {
      "needs_background": "light"
     },
     "output_type": "display_data"
    },
    {
     "name": "stdout",
     "output_type": "stream",
     "text": [
      "Logistic Regression Model (Nan as category) Accuracy: 89.68 %\n",
      "Logistic Regression Model (Nan as category) F1 score: 30.43 %\n"
     ]
    },
    {
     "data": {
      "image/png": "[encoded data removed]",
      "text/plain": [
       "<Figure size 432x288 with 2 Axes>"
      ]
     },
     "metadata": {
      "needs_background": "light"
     },
     "output_type": "display_data"
    },
    {
     "name": "stdout",
     "output_type": "stream",
     "text": [
      "Logistic Regression Model (Nan as category) Accuracy: 89.64 %\n",
      "Logistic Regression Model (Nan as category) F1 score: 30.94 %\n"
     ]
    },
    {
     "data": {
      "image/png": "[encoded data removed]",
      "text/plain": [
       "<Figure size 432x288 with 2 Axes>"
      ]
     },
     "metadata": {
      "needs_background": "light"
     },
     "output_type": "display_data"
    },
    {
     "name": "stdout",
     "output_type": "stream",
     "text": [
      "Logistic Regression Model (Nan as category) Accuracy: 89.43 %\n",
      "Logistic Regression Model (Nan as category) F1 score: 29.49 %\n"
     ]
    },
    {
     "data": {
      "image/png": "[encoded data removed]",
      "text/plain": [
       "<Figure size 432x288 with 2 Axes>"
      ]
     },
     "metadata": {
      "needs_background": "light"
     },
     "output_type": "display_data"
    },
    {
     "name": "stdout",
     "output_type": "stream",
     "text": [
      "Logistic Regression Model (Nan as category) Accuracy: 89.35 %\n",
      "Logistic Regression Model (Nan as category) F1 score: 28.3 %\n"
     ]
    },
    {
     "data": {
      "image/png": "[encoded data removed]",
      "text/plain": [
       "<Figure size 432x288 with 2 Axes>"
      ]
     },
     "metadata": {
      "needs_background": "light"
     },
     "output_type": "display_data"
    },
    {
     "name": "stdout",
     "output_type": "stream",
     "text": [
      "Logistic Regression Model (Nan as category) Accuracy: 89.41 %\n",
      "Logistic Regression Model (Nan as category) F1 score: 29.17 %\n"
     ]
    },
    {
     "data": {
      "image/png": "[encoded data removed]",
      "text/plain": [
       "<Figure size 432x288 with 2 Axes>"
      ]
     },
     "metadata": {
      "needs_background": "light"
     },
     "output_type": "display_data"
    },
    {
     "name": "stdout",
     "output_type": "stream",
     "text": [
      "Logistic Regression Model (Nan as category) Accuracy: 89.08 %\n",
      "Logistic Regression Model (Nan as category) F1 score: 29.83 %\n"
     ]
    },
    {
     "data": {
      "image/png": "[encoded data removed]",
      "text/plain": [
       "<Figure size 432x288 with 2 Axes>"
      ]
     },
     "metadata": {
      "needs_background": "light"
     },
     "output_type": "display_data"
    },
    {
     "name": "stdout",
     "output_type": "stream",
     "text": [
      "Logistic Regression Model (Nan as category) Accuracy: 89.05 %\n",
      "Logistic Regression Model (Nan as category) F1 score: 28.48 %\n"
     ]
    },
    {
     "data": {
      "image/png": "[encoded data removed]",
      "text/plain": [
       "<Figure size 432x288 with 2 Axes>"
      ]
     },
     "metadata": {
      "needs_background": "light"
     },
     "output_type": "display_data"
    }
   ],
   "source": [
    "accuracy_list, fscore_list = cross_validation(onehot_df, y, t=10)"
   ]
  },
  {
   "cell_type": "code",
   "execution_count": 187,
   "id": "39029af3-5115-421f-8d78-011307655969",
   "metadata": {},
   "outputs": [
    {
     "data": {
      "image/png": "[encoded data removed]",
      "text/plain": [
       "<Figure size 432x288 with 1 Axes>"
      ]
     },
     "metadata": {
      "needs_background": "light"
     },
     "output_type": "display_data"
    },
    {
     "data": {
      "image/png": "[encoded data removed]",
      "text/plain": [
       "<Figure size 432x288 with 1 Axes>"
      ]
     },
     "metadata": {
      "needs_background": "light"
     },
     "output_type": "display_data"
    }
   ],
   "source": [
    "import matplotlib.pyplot as plt\n",
    "import numpy as np\n",
    "\n",
    "# Example array (you can replace this with your own array)\n",
    "acc_array = np.array(accuracy_list)\n",
    "f1_array = np.array(fscore_list)\n",
    "\n",
    "# Plot the array as a line plot\n",
    "plt.plot(acc_array)\n",
    "\n",
    "# Add labels and title for the plot\n",
    "plt.title(\"Accuracy from 10 samples\")\n",
    "plt.xlabel(\"i\")\n",
    "plt.ylabel(\"Accuracy\")\n",
    "plt.ylim(0.5, 1)\n",
    "\n",
    "# Show the plot\n",
    "plt.show()\n",
    "\n",
    "# Plot the array as a line plot\n",
    "plt.plot(f1_array)\n",
    "\n",
    "# Add labels and title for the plot\n",
    "plt.title(\"F1 score from 10 samples\")\n",
    "plt.xlabel(\"i\")\n",
    "plt.ylabel(\"F1 score\")\n",
    "plt.ylim(0, 0.5)\n",
    "# Show the plot\n",
    "plt.show()"
   ]
  },
  {
   "cell_type": "code",
   "execution_count": null,
   "id": "aa74a4a6-1362-4b1a-bb10-41b627cefce6",
   "metadata": {},
   "outputs": [],
   "source": []
  }
 ],
 "metadata": {
  "kernelspec": {
   "display_name": "fairalgo",
   "language": "python",
   "name": "fairalgo"
  },
  "language_info": {
   "codemirror_mode": {
    "name": "ipython",
    "version": 3
   },
   "file_extension": ".py",
   "mimetype": "text/x-python",
   "name": "python",
   "nbconvert_exporter": "python",
   "pygments_lexer": "ipython3",
   "version": "3.8.12"
  }
 },
 "nbformat": 4,
 "nbformat_minor": 5
}
